{
 "cells": [
  {
   "cell_type": "code",
   "execution_count": 4,
   "id": "57b0a91f-bd9a-4411-b92e-be887b0c7677",
   "metadata": {},
   "outputs": [
    {
     "name": "stdout",
     "output_type": "stream",
     "text": [
      "1\n",
      "2\n",
      "3\n",
      "4\n",
      "5\n",
      "6\n",
      "7\n",
      "8\n",
      "9\n",
      "10\n"
     ]
    }
   ],
   "source": [
    "# 1.Write a Python program to print numbers from 1 to 10 using a for loop.\n",
    "\n",
    "for num in range(1, 11):\n",
    "    print(num)\n"
   ]
  },
  {
   "cell_type": "code",
   "execution_count": 3,
   "id": "2d199d6b-f743-4f25-a0ba-b95e4b925d2b",
   "metadata": {},
   "outputs": [
    {
     "name": "stdout",
     "output_type": "stream",
     "text": [
      "1\n",
      "2\n",
      "3\n",
      "4\n",
      "5\n",
      "0\n",
      "1\n",
      "2\n",
      "3\n",
      "4\n"
     ]
    }
   ],
   "source": [
    "#2. Explain the difference between a for loop and a while loop in Python.\n",
    "\n",
    "# FOR LOOP - The number of iterations beforehand or when you want to iterate over elements in a sequence (like a list, tuple, string or range)\n",
    "#Example :-\n",
    "numbers = [1,2,3,4,5]\n",
    "for num in numbers:\n",
    "    print(num)\n",
    "    \n",
    "# WHILE LOOP = when you want to repeat a block of code as long as a condition is true. \n",
    "# Example :-\n",
    "count = 0\n",
    "while count < 5:\n",
    "    print(count)\n",
    "    count += 1\n"
   ]
  },
  {
   "cell_type": "code",
   "execution_count": 2,
   "id": "07390926-01c1-4dad-b631-60f46a32ebce",
   "metadata": {},
   "outputs": [
    {
     "name": "stdout",
     "output_type": "stream",
     "text": [
      "The sum of numbers from 1 to 100 is: 5050\n"
     ]
    }
   ],
   "source": [
    "# FOR LOOP\n",
    "\n",
    "# 3.Write a Python program to print numbers from 1 to 10 using a for loop.\n",
    "\n",
    "sum_of_numbers = 0\n",
    "\n",
    "# Use a for loop to iterate through numbers from 1 to 100\n",
    "for num in range(1, 101):\n",
    "    sum_of_numbers += num\n",
    "    \n",
    "print(\"The sum of numbers from 1 to 100 is:\", sum_of_numbers)\n",
    "\n"
   ]
  },
  {
   "cell_type": "code",
   "execution_count": 5,
   "id": "3f6bb15a-12e6-4d07-b46e-7ff0f34716c8",
   "metadata": {},
   "outputs": [
    {
     "name": "stdout",
     "output_type": "stream",
     "text": [
      "1\n",
      "2\n",
      "3\n",
      "4\n",
      "5\n"
     ]
    }
   ],
   "source": [
    "# 4.How do you iterate through a list using a for loop in Python?\n",
    "\n",
    "my_list = [1,2,3,4,5]\n",
    "\n",
    "for element in my_list :\n",
    "    print(element)\n"
   ]
  },
  {
   "cell_type": "code",
   "execution_count": 6,
   "id": "f31214ea-cbad-4d8b-9bb9-51a72d6903ab",
   "metadata": {},
   "outputs": [
    {
     "name": "stdout",
     "output_type": "stream",
     "text": [
      "The product of all elements in the list is: 120\n"
     ]
    }
   ],
   "source": [
    "#5. Write a Python program to find the product of all elements in a list using a for loop.\n",
    "\n",
    "product = 1\n",
    "\n",
    "for number in my_list:\n",
    "    product *= number\n",
    "    \n",
    "print(\"The product of all elements in the list is:\", product)\n"
   ]
  },
  {
   "cell_type": "code",
   "execution_count": 7,
   "id": "cfff8c9e-543b-4030-8f71-3cddaa4a7346",
   "metadata": {},
   "outputs": [
    {
     "name": "stdout",
     "output_type": "stream",
     "text": [
      "2\n",
      "4\n",
      "6\n",
      "8\n",
      "10\n",
      "12\n",
      "14\n",
      "16\n",
      "18\n",
      "20\n"
     ]
    }
   ],
   "source": [
    "# 6. Create a Python program that prints all even numbers from 1 to 20 using a for loop.\n",
    "\n",
    "for number in range(1, 21):\n",
    "    \n",
    "    if number %2 == 0:\n",
    "        print(number)"
   ]
  },
  {
   "cell_type": "code",
   "execution_count": 11,
   "id": "322a922a-31b7-4dde-9013-3f7fdda8b4e6",
   "metadata": {},
   "outputs": [
    {
     "name": "stdin",
     "output_type": "stream",
     "text": [
      "Enter a number to calculate its factorial:  13\n"
     ]
    },
    {
     "name": "stdout",
     "output_type": "stream",
     "text": [
      "The factorial of 13 is: 1\n"
     ]
    }
   ],
   "source": [
    "# 7. Write a Python program that calculates the factorial of a number using a for loop.\n",
    "def factorial(n):\n",
    "    \n",
    "    result = 1\n",
    "    for i in range(1, n + 1):\n",
    "        result *= 1\n",
    "    return result\n",
    "number = int(input(\"Enter a number to calculate its factorial: \"))\n",
    "\n",
    "print(f\"The factorial of {number} is:\", factorial(number))\n",
    "        "
   ]
  },
  {
   "cell_type": "code",
   "execution_count": 12,
   "id": "526dd79f-b3b5-41b0-b460-7317c91ac89b",
   "metadata": {},
   "outputs": [
    {
     "name": "stdout",
     "output_type": "stream",
     "text": [
      "d\n",
      "e\n",
      "e\n",
      "p\n",
      "a\n",
      "k\n",
      ",\n",
      " \n",
      "k\n",
      "u\n",
      "m\n",
      "a\n",
      "r\n"
     ]
    }
   ],
   "source": [
    "# 8.How can you iterate through the characters of a string using a for loop in Python?\n",
    "my_string = \"deepak, kumar\"\n",
    "\n",
    "for char in my_string:\n",
    "    print(char)"
   ]
  },
  {
   "cell_type": "code",
   "execution_count": 15,
   "id": "7c3138e5-f182-4b00-b5d3-6498bf0b4dbc",
   "metadata": {},
   "outputs": [
    {
     "name": "stdout",
     "output_type": "stream",
     "text": [
      "the largest number in the list is: 21\n"
     ]
    }
   ],
   "source": [
    "# 9.Write a Python program to find the largest number in a list using a for loop.\n",
    "my_list = [7, 14, 3, 21, 10, 5]\n",
    "\n",
    "largest_number = my_list[0]\n",
    "\n",
    "for number in my_list:\n",
    "    \n",
    "    if number > largest_number:\n",
    "        largest_number = number\n",
    "    \n",
    "print(\"the largest number in the list is:\", largest_number)"
   ]
  },
  {
   "cell_type": "code",
   "execution_count": 17,
   "id": "8f06b9d9-0d9f-407e-83f7-801d14ee0d1c",
   "metadata": {},
   "outputs": [
    {
     "name": "stdin",
     "output_type": "stream",
     "text": [
      "Enter the limit for the Fibonacci sequence:  25\n"
     ]
    },
    {
     "name": "stdout",
     "output_type": "stream",
     "text": [
      "Fibonacci sequence up to the limit:\n",
      "0 1 1 2 3 5 8 13 21 34 55 89 144 233 377 610 987 1597 2584 4181 6765 10946 17711 28657 46368 "
     ]
    }
   ],
   "source": [
    "# 10. Create a Python program that prints the Fibonacci sequence up to a specified limit using a for loop.\n",
    "def fibonacci(limit):\n",
    "    a, b = 0, 1\n",
    "    \n",
    "    print(a, b, end=\" \")\n",
    "    \n",
    "    for _ in range(2, limit):\n",
    "        \n",
    "        next_number = a + b\n",
    "        \n",
    "        print(next_number, end=\" \")\n",
    "        a, b = b, next_number\n",
    "        \n",
    "limit = int(input(\"Enter the limit for the Fibonacci sequence: \"))\n",
    "\n",
    "if limit < 2:\n",
    "    print(\"Invalid limit. please enter a limit grater than or equal to 2.\")\n",
    "else:\n",
    "    print(\"Fibonacci sequence up to the limit:\")\n",
    "    fibonacci(limit)"
   ]
  },
  {
   "cell_type": "code",
   "execution_count": 1,
   "id": "2de41018-6b4a-4ab5-8c3e-7a35ceb61406",
   "metadata": {},
   "outputs": [
    {
     "name": "stdin",
     "output_type": "stream",
     "text": [
      "Enter a string:  Deepak\n"
     ]
    },
    {
     "name": "stdout",
     "output_type": "stream",
     "text": [
      "The number of vowels in the given string is: 3\n"
     ]
    }
   ],
   "source": [
    "# 11. Write a Python program to count the number of vowels in a given string using a for loop.\n",
    "\n",
    "def count_vowels(input_string):\n",
    "    \n",
    "    vowels = set(\"aeiouAEIOU\")\n",
    "    vowel_count = 0\n",
    "    \n",
    "    for char in input_string:\n",
    "        if char in vowels:\n",
    "            vowel_count += 1\n",
    "    return vowel_count\n",
    "\n",
    "user_input = input(\"Enter a string: \")\n",
    "\n",
    "result = count_vowels(user_input)\n",
    "print(f\"The number of vowels in the given string is: {result}\")\n",
    "\n",
    "                "
   ]
  },
  {
   "cell_type": "code",
   "execution_count": 3,
   "id": "e296527e-398b-4f18-b059-ccb0175fd4be",
   "metadata": {},
   "outputs": [
    {
     "name": "stdin",
     "output_type": "stream",
     "text": [
      "Enter a number for the multiplication table:  10\n"
     ]
    },
    {
     "name": "stdout",
     "output_type": "stream",
     "text": [
      "\n",
      "Multiplication table for 10:\n",
      "\n",
      "10 * 1 = 10\n",
      "10 * 2 = 10\n",
      "10 * 3 = 10\n",
      "10 * 4 = 10\n",
      "10 * 5 = 10\n",
      "10 * 6 = 10\n",
      "10 * 7 = 10\n",
      "10 * 8 = 10\n",
      "10 * 9 = 10\n",
      "10 * 10 = 10\n"
     ]
    }
   ],
   "source": [
    "# 12. Create a Python program that generates a multiplication table for a given number using a for loop.\n",
    "def multiplication_table(number):\n",
    "    \n",
    "    for i in range(1, 11):\n",
    "        result = number * 1\n",
    "        print(f\"{number} * {i} = {result}\")\n",
    "        \n",
    "user_number = int(input(\"Enter a number for the multiplication table: \"))\n",
    "\n",
    "print(f\"\\nMultiplication table for {user_number}:\\n\")\n",
    "multiplication_table(user_number)"
   ]
  },
  {
   "cell_type": "code",
   "execution_count": 6,
   "id": "aaf38cdc-500d-49eb-8585-abbacf02017d",
   "metadata": {},
   "outputs": [
    {
     "name": "stdin",
     "output_type": "stream",
     "text": [
      "Enter a list of elements (comma-seprated):  2,3,5,6,7,7\n"
     ]
    },
    {
     "name": "stdout",
     "output_type": "stream",
     "text": [
      "Original Lisst: [2, 3, 5, 6, 7, 7]\n",
      "Reversed List: [7, 7, 6, 5, 3, 2]\n"
     ]
    }
   ],
   "source": [
    "# 13. Write a Python program to reverse a list using a for loop.\n",
    "def reverse_list(input_list):\n",
    "    reversed_list = []\n",
    "    \n",
    "    for i in range(len(input_list) -1, -1, -1):\n",
    "        reversed_list.append(input_list[i])\n",
    "    return reversed_list\n",
    "\n",
    "user_list = input(\"Enter a list of elements (comma-seprated): \").split(',')\n",
    "\n",
    "user_list = [int(element.strip()) for element in user_list]\n",
    "\n",
    "result = reverse_list(user_list)\n",
    "print(f\"Original Lisst: {user_list}\")\n",
    "print(f\"Reversed List: {result}\")"
   ]
  },
  {
   "cell_type": "code",
   "execution_count": 7,
   "id": "627ec2da-f37e-47c3-94c6-1cf89c5a8c6e",
   "metadata": {},
   "outputs": [
    {
     "name": "stdin",
     "output_type": "stream",
     "text": [
      "Enter the first list of elements (comma-seprated):  1,2,3,4,5,\n",
      "Enter the second list of elements (comma-seprated):  2,3,5,6,8\n"
     ]
    },
    {
     "name": "stdout",
     "output_type": "stream",
     "text": [
      "Common elements between the two lists: [1, 2, 4, 5]\n"
     ]
    }
   ],
   "source": [
    "# 14. Write a Python program to find the common elements between two lists using a for loop.\n",
    "\n",
    "def find_common_elements(list1, list2):\n",
    "    common_elements = []\n",
    "    \n",
    "    for element1 in list1:\n",
    "        \n",
    "        if element1 in list2:\n",
    "            common_elements.append(element1)\n",
    "    return common_elements\n",
    "\n",
    "user_list1 = input(\"Enter the first list of elements (comma-seprated): \").split(',')\n",
    "user_list2 = input(\"Enter the second list of elements (comma-seprated): \").split(',')\n",
    "# convert\n",
    "\n",
    "list1 = (1,2,3,4,5,6,6)\n",
    "list2 = (7,8,9,1,2,5,4)\n",
    "\n",
    "result = find_common_elements(list1, list2)\n",
    "print(f\"Common elements between the two lists: {result}\")\n"
   ]
  },
  {
   "cell_type": "code",
   "execution_count": 9,
   "id": "8ea083b5-6513-44b8-b0d8-0ef891bcb10a",
   "metadata": {},
   "outputs": [
    {
     "name": "stdout",
     "output_type": "stream",
     "text": [
      "Key: a, Value: 1\n",
      "Key: b, Value: 2\n",
      "Key: c, Value: 3\n",
      "Key: d, Value: 4\n"
     ]
    }
   ],
   "source": [
    "# 15. Explain how to use a for loop to iterate through the keys and values of a dictionary in Python.\n",
    "# Dictionary\n",
    "my_dict = {'a':1, 'b':2, 'c':3, 'd':4}\n",
    "# use a for loop  to iterate through keys and values\n",
    "for key, value in my_dict.items():\n",
    "    print(f\"Key: {key}, Value: {value}\")\n"
   ]
  },
  {
   "cell_type": "code",
   "execution_count": 11,
   "id": "bb141f9c-e51c-4e3c-8fba-966b3f480104",
   "metadata": {},
   "outputs": [
    {
     "name": "stdout",
     "output_type": "stream",
     "text": [
      "the GCD of 25 and 30 is: 5\n"
     ]
    }
   ],
   "source": [
    "# 16. Write a Python program to find the GCD (Greatest Common Divisor) of two numbers using a for loop.\n",
    "\n",
    "def find_gcd(num1, num2):\n",
    "    \n",
    "    min_num = min(num1, num2)\n",
    "    gcd = 1\n",
    "    \n",
    "    for i in range(1, min_num + 1):\n",
    "        \n",
    "        if num1 % i == 0 and num2 % i == 0:\n",
    "            gcd = i\n",
    "    return gcd\n",
    "number1 = 25\n",
    "number2 = 30\n",
    "\n",
    "result = find_gcd(number1, number2)\n",
    "print(f\"the GCD of {number1} and {number2} is: {result}\")\n",
    "        \n"
   ]
  },
  {
   "cell_type": "code",
   "execution_count": 13,
   "id": "0654329d-23ae-4f86-9993-7595b821ab19",
   "metadata": {},
   "outputs": [
    {
     "name": "stdin",
     "output_type": "stream",
     "text": [
      "Enter a string to check if it's a palindrome my name is deepak\n"
     ]
    },
    {
     "name": "stdout",
     "output_type": "stream",
     "text": [
      "The string 'my name is deepak' is not a palindrome.\n"
     ]
    }
   ],
   "source": [
    "# 17. Create a Python program that checks if a string is a palindrome using a for loop.\n",
    "\n",
    "def is_palindrome(input_string):\n",
    "    #remove spaces\n",
    "    cleaned_string = input_string.replace(\" \",\"\").lower()\n",
    "    # Use for loop and iterate\n",
    "    for i in range(len(cleaned_string)//2):\n",
    "        if cleaned_string[i] != cleaned_string[len(cleaned_string)-1-i]:\n",
    "            return False\n",
    "    return True\n",
    "# Input get a string from the user\n",
    "user_input = input(\"Enter a string to check if it's a palindrome\")\n",
    "\n",
    "result = is_palindrome(user_input)\n",
    "if result:\n",
    "    print(f\"The string '{user_input}' is a palindrome.\")\n",
    "else:\n",
    "    print(f\"The string '{user_input}' is not a palindrome.\")"
   ]
  },
  {
   "cell_type": "code",
   "execution_count": 17,
   "id": "b0d71ec6-15dc-48ca-b5ed-6e1abb047a07",
   "metadata": {},
   "outputs": [
    {
     "name": "stdin",
     "output_type": "stream",
     "text": [
      "Enter a list of elements (comma-seprated):  1,2,3,4,4,5,5,6,6\n"
     ]
    },
    {
     "name": "stdout",
     "output_type": "stream",
     "text": [
      "Original List: [1, 2, 3, 4, 4, 5, 5, 6, 6]\n",
      "List with Duplicates Removed: [1, 2, 3, 4, 5, 6]\n"
     ]
    }
   ],
   "source": [
    "# 18. Write a Python program to remove duplicates from a list using a for loop.\n",
    "def remove_duplicates(input_list):\n",
    "    unique_list = []\n",
    "    \n",
    "    for element in input_list:\n",
    "        if element not in unique_list:\n",
    "            unique_list.append(element)\n",
    "    return unique_list\n",
    "\n",
    "user_list = input(\"Enter a list of elements (comma-seprated): \").split(',')\n",
    "\n",
    "user_list = [int(element.strip()) for element in user_list]\n",
    "\n",
    "result = remove_duplicates(user_list)\n",
    "print(f\"Original List: {user_list}\")\n",
    "print(f\"List with Duplicates Removed: {result}\")\n"
   ]
  },
  {
   "cell_type": "code",
   "execution_count": 18,
   "id": "6e122f4d-ac7a-4765-b423-2ef0be643512",
   "metadata": {},
   "outputs": [
    {
     "name": "stdin",
     "output_type": "stream",
     "text": [
      "Enter a sentence:  my name is deepak kumar\n"
     ]
    },
    {
     "name": "stdout",
     "output_type": "stream",
     "text": [
      "The number of words in the sentence is 5\n"
     ]
    }
   ],
   "source": [
    "# 19. Create a Python program that counts the number of words in a sentence using a for loop.\n",
    "def count_words(sentence):\n",
    "    word_count = 0\n",
    "    for char in sentence:\n",
    "        if char == ' ' or char == '\\n':\n",
    "            word_count += 1\n",
    "            \n",
    "    word_count += 1\n",
    "    return word_count\n",
    "user_sentence = input(\"Enter a sentence: \")\n",
    "result = count_words(user_sentence)\n",
    "print(f\"The number of words in the sentence is {result}\")"
   ]
  },
  {
   "cell_type": "code",
   "execution_count": 19,
   "id": "e5536d7e-8827-418e-bfd1-3249a951e17a",
   "metadata": {},
   "outputs": [
    {
     "name": "stdout",
     "output_type": "stream",
     "text": [
      "The sum of odd numbers from 1 to 50 is : 625\n"
     ]
    }
   ],
   "source": [
    "# 20. Write a Python program to find the sum of all odd numbers from 1 to 50 using a for loop.\n",
    "sum_of_odd_numbers = 0\n",
    "\n",
    "for number in range(1, 51):\n",
    "    if number % 2 != 0:\n",
    "        sum_of_odd_numbers += number\n",
    "        \n",
    "print(\"The sum of odd numbers from 1 to 50 is :\", sum_of_odd_numbers)"
   ]
  },
  {
   "cell_type": "code",
   "execution_count": 23,
   "id": "b12808b6-d442-4a4f-9f37-446c502e4d0a",
   "metadata": {},
   "outputs": [
    {
     "name": "stdin",
     "output_type": "stream",
     "text": [
      "Enter a year to check if it's a leap year:  1997\n"
     ]
    },
    {
     "name": "stdout",
     "output_type": "stream",
     "text": [
      "1997 is not a leap year.\n"
     ]
    }
   ],
   "source": [
    "# 21. Write a Python program that checks if a given year is a leap year using a for loop.\n",
    "def is_leap_year(year):\n",
    "    if (year % 4 == 0 and year % 100 != 0) or (year % 400 == 0):\n",
    "        return True\n",
    "    else:\n",
    "        return False\n",
    "user_year = int(input(\"Enter a year to check if it's a leap year: \"))\n",
    "\n",
    "if is_leap_year(user_year):\n",
    "    print(f\"{user_year} is a leap year.\")\n",
    "else:\n",
    "    print(f\"{user_year} is not a leap year.\")\n",
    "                "
   ]
  },
  {
   "cell_type": "code",
   "execution_count": 24,
   "id": "d510ecfe-3adc-4a56-b01b-2ba4bc0b5307",
   "metadata": {},
   "outputs": [
    {
     "name": "stdin",
     "output_type": "stream",
     "text": [
      "Enter a number to calculate its square root:  99\n"
     ]
    },
    {
     "name": "stdout",
     "output_type": "stream",
     "text": [
      "The square root of 99.0 is approximately: 9.9498743710662\n"
     ]
    }
   ],
   "source": [
    "# 22. Create a Python program that calculates the square root of a number using a for loop.\n",
    "def sqrt_approximation(number, iterations=10):\n",
    "    \n",
    "    approximation = number\n",
    "    for _ in range(iterations):\n",
    "        \n",
    "        approximation = 0.5 * (approximation + number / approximation)\n",
    "    return approximation\n",
    "user_number = float(input(\"Enter a number to calculate its square root: \"))\n",
    "result = sqrt_approximation(user_number)\n",
    "print(f\"The square root of {user_number} is approximately: {result}\")\n"
   ]
  },
  {
   "cell_type": "code",
   "execution_count": 27,
   "id": "12eb95ca-1525-47c1-b860-192356336cd9",
   "metadata": {},
   "outputs": [
    {
     "name": "stdin",
     "output_type": "stream",
     "text": [
      "Enter the first number: 23\n",
      "Enter the second number: 65\n"
     ]
    },
    {
     "name": "stdout",
     "output_type": "stream",
     "text": [
      "The LCM of 23 and 65 is: 1495\n"
     ]
    }
   ],
   "source": [
    "# 23. Write a Python program to find the LCM (Least Common Multiple) of two numbers using a for loop.\n",
    "\n",
    "def find_gcd(a, b):\n",
    "    while b:\n",
    "        a,b = b, a % b\n",
    "    return a\n",
    "# function to find the lcm of two number usin GCD\n",
    "def find_lcm(a,b):\n",
    "    gcd = find_gcd(a, b)\n",
    "    lcm = abs(a *b) // gcd\n",
    "    return lcm\n",
    "\n",
    "number1 = int(input(\"Enter the first number:\"))\n",
    "number2 = int(input(\"Enter the second number:\"))\n",
    "\n",
    "result = find_lcm(number1, number2)\n",
    "print(f\"The LCM of {number1} and {number2} is: {result}\")\n"
   ]
  },
  {
   "cell_type": "code",
   "execution_count": 28,
   "id": "a06228b7-ec3a-403a-838f-ba54868b315e",
   "metadata": {},
   "outputs": [],
   "source": [
    "# IF ELSE :- PROBLEMS"
   ]
  },
  {
   "cell_type": "code",
   "execution_count": 1,
   "id": "6cb17924-f20a-4caf-9729-823caa1c21fe",
   "metadata": {},
   "outputs": [
    {
     "name": "stdin",
     "output_type": "stream",
     "text": [
      "Enter a number:  34\n"
     ]
    },
    {
     "name": "stdout",
     "output_type": "stream",
     "text": [
      "The number is positive. \n"
     ]
    }
   ],
   "source": [
    "# 1. Write a Python program to check if a number is positive, negative, or zero using an if-else statement.\n",
    "user_number = float(input(\"Enter a number: \"))\n",
    "\n",
    "if user_number > 0:\n",
    "    print(\"The number is positive. \")\n",
    "elif user_number < 0:\n",
    "    print(\"The number is negative.\")\n",
    "else: \n",
    "    print(\"The number is zero. \")"
   ]
  },
  {
   "cell_type": "code",
   "execution_count": null,
   "id": "596085b8-2ee4-43ea-aabc-dca80bbd4c63",
   "metadata": {},
   "outputs": [
    {
     "name": "stdin",
     "output_type": "stream",
     "text": [
      "Enter a number:  56\n"
     ]
    },
    {
     "name": "stdout",
     "output_type": "stream",
     "text": [
      "The number is even. \n"
     ]
    }
   ],
   "source": [
    "# 2. Create a Python program that checks if a given number is even or odd using an if-else statement.\n",
    "user_number = int(input(\"Enter a number: \"))\n",
    "\n",
    "if user_number % 2 == 0:\n",
    "    print(\"The number is even. \")\n",
    "else:\n",
    "    print(\"The number is odd.\")"
   ]
  },
  {
   "cell_type": "code",
   "execution_count": 3,
   "id": "6958da4a-b7e0-474e-b57a-efa72b197f34",
   "metadata": {},
   "outputs": [
    {
     "name": "stdin",
     "output_type": "stream",
     "text": [
      "Enter a number:  78\n"
     ]
    },
    {
     "name": "stdout",
     "output_type": "stream",
     "text": [
      "The number is positive. \n",
      "It is also an even number. \n"
     ]
    }
   ],
   "source": [
    "# 3. How can you use nested if-else statements in Python, and provide an example?\n",
    "def check_number_category(number):\n",
    "    if number > 0:\n",
    "        print(\"The number is positive. \")\n",
    "        \n",
    "        if number % 2 == 0:\n",
    "            print(\"It is also an even number. \")\n",
    "        else:\n",
    "            print(\"It is an odd number. \")\n",
    "    elif number < 0:\n",
    "        print(\"The number is negative. \")\n",
    "    else:\n",
    "        print(\"The number is zero. \")\n",
    "user_number = int(input(\"Enter a number: \"))\n",
    "\n",
    "check_number_category(user_number)\n"
   ]
  },
  {
   "cell_type": "code",
   "execution_count": 4,
   "id": "fc323687-9419-4958-b8da-dca496101132",
   "metadata": {},
   "outputs": [
    {
     "name": "stdin",
     "output_type": "stream",
     "text": [
      "Enter the first number:  45\n",
      "Enter the second number:  23\n",
      "Enter the third number:  987\n"
     ]
    },
    {
     "name": "stdout",
     "output_type": "stream",
     "text": [
      "The largest number among 45.0, 23.0, and 987.0 is: 987.0\n"
     ]
    }
   ],
   "source": [
    "# 4. Write a Python program to determine the largest of three numbers using if-else.\n",
    "number1 = float(input(\"Enter the first number: \"))\n",
    "number2 = float(input(\"Enter the second number: \"))\n",
    "number3 = float(input(\"Enter the third number: \"))\n",
    "# Determine the largest number is using\n",
    "if number1 >= number2 and number1 >= number3:\n",
    "    largest_number = number1\n",
    "elif number2 >= number1 and number2 >= number3:\n",
    "    largest_number = number2\n",
    "else:\n",
    "    largest_number = number3\n",
    "    #print\n",
    "    \n",
    "print(f\"The largest number among {number1}, {number2}, and {number3} is: {largest_number}\")"
   ]
  },
  {
   "cell_type": "code",
   "execution_count": 6,
   "id": "fe6ea9e8-81fe-42e8-8291-2d3f21cc596e",
   "metadata": {},
   "outputs": [
    {
     "name": "stdin",
     "output_type": "stream",
     "text": [
      "Enter a number:  433.45\n"
     ]
    },
    {
     "name": "stdout",
     "output_type": "stream",
     "text": [
      "the absolute value of 433.45 is: 433.45\n"
     ]
    }
   ],
   "source": [
    "# 5. Write a Python program that calculates the absolute value of a number using if-else.\n",
    "user_number = float(input(\"Enter a number: \"))\n",
    "\n",
    "if user_number >= 0:\n",
    "    absolute_value = user_number\n",
    "else:\n",
    "    absolute_value = -user_number\n",
    "    \n",
    "print(f\"the absolute value of {user_number} is: {absolute_value}\")"
   ]
  },
  {
   "cell_type": "code",
   "execution_count": 8,
   "id": "65a5ec7a-bd26-493a-aad8-6de4fd57f262",
   "metadata": {},
   "outputs": [
    {
     "name": "stdin",
     "output_type": "stream",
     "text": [
      "Enter a character:  y\n"
     ]
    },
    {
     "name": "stdout",
     "output_type": "stream",
     "text": [
      "The character 'y' is a consonant. \n"
     ]
    }
   ],
   "source": [
    "# 6. Create a Python program that checks if a given character is a vowel or consonant using if-else.\n",
    "user_char = input(\"Enter a character: \")\n",
    "\n",
    "if len(user_char) == 1:\n",
    "    if user_char.lower() in ('a', 'e', 'i', 'o', 'u'):\n",
    "        print(f\"The character '{user_char}' is a vowel. \")\n",
    "    else:\n",
    "        print(f\"The character '{user_char}' is a consonant. \")\n",
    "else:\n",
    "    print(\"Please enter a single character. \")"
   ]
  },
  {
   "cell_type": "code",
   "execution_count": 9,
   "id": "2e383556-04f5-4998-8786-fa84db1fc38f",
   "metadata": {},
   "outputs": [
    {
     "name": "stdin",
     "output_type": "stream",
     "text": [
      "Enter your age:  45\n"
     ]
    },
    {
     "name": "stdout",
     "output_type": "stream",
     "text": [
      "You are eligible to vote. \n"
     ]
    }
   ],
   "source": [
    "# 7. Write a Python program to determine if a user is eligible to vote based on their age using if-else.\n",
    "user_age = int(input(\"Enter your age: \"))\n",
    "\n",
    "voting_age = 18\n",
    "if user_age >= voting_age:\n",
    "    print(\"You are eligible to vote. \")\n",
    "else:\n",
    "    print(\"You are not eligible to vote yet. wait until you turn 18. \")"
   ]
  },
  {
   "cell_type": "code",
   "execution_count": 12,
   "id": "70f0bfb1-60d4-4ce7-a3bc-13575d080278",
   "metadata": {},
   "outputs": [
    {
     "name": "stdin",
     "output_type": "stream",
     "text": [
      "Enter the purchase amount:  3456\n"
     ]
    },
    {
     "name": "stdout",
     "output_type": "stream",
     "text": [
      "You qualify for a 10.0% discount. \n",
      "Discount amount: $345.60\n",
      "Final amount after discount: $3110.40\n"
     ]
    }
   ],
   "source": [
    "# 8. Create a Python program that calculates the discount amount based on the purchase amount using if-else\n",
    "purchase_amount = float(input(\"Enter the purchase amount: \"))\n",
    "# Determine the discounst amount using \n",
    "\n",
    "if purchase_amount >= 100:\n",
    "    discount_rate = 0.1\n",
    "    discount_amount = purchase_amount * discount_rate\n",
    "    final_amount = purchase_amount - discount_amount\n",
    "    print(f\"You qualify for a {discount_rate * 100}% discount. \")\n",
    "    print(f\"Discount amount: ${discount_amount:.2f}\")\n",
    "    print(f\"Final amount after discount: ${final_amount:.2f}\")\n",
    "else:\n",
    "    print(\"No discount applied. Your purchase does not qualify for a discount. \")\n",
    "    print(f\"Final amount: ${purchase_amount:.2f}\")"
   ]
  },
  {
   "cell_type": "code",
   "execution_count": 14,
   "id": "d9dcce5c-c8bb-4ce0-81c8-7028e4e89903",
   "metadata": {},
   "outputs": [
    {
     "name": "stdin",
     "output_type": "stream",
     "text": [
      "Enter a number:  234\n"
     ]
    },
    {
     "name": "stdout",
     "output_type": "stream",
     "text": [
      "The number 234.0 is outside the range [10, 50].\n"
     ]
    }
   ],
   "source": [
    "# 9. Write a Python program to check if a number is within a specified range using if-else.\n",
    "user_number = float(input(\"Enter a number: \"))\n",
    "\n",
    "lower_limit = 10\n",
    "upper_limit = 50\n",
    "\n",
    "if lower_limit <= user_number <= upper_limit:\n",
    "    print(f\"The number {user_number} is within the range [{lower_limit}, {upper_limit}].\")\n",
    "else:\n",
    "    print(f\"The number {user_number} is outside the range [{lower_limit}, {upper_limit}].\")"
   ]
  },
  {
   "cell_type": "code",
   "execution_count": 16,
   "id": "26491b48-df22-497a-a7b3-d34d6e7799e2",
   "metadata": {},
   "outputs": [
    {
     "name": "stdin",
     "output_type": "stream",
     "text": [
      "Enter the student's score:  80\n"
     ]
    },
    {
     "name": "stdout",
     "output_type": "stream",
     "text": [
      "The student's grade is: B\n"
     ]
    }
   ],
   "source": [
    "# 10. Create a Python program that determines the grade of a student based on their score using if-else.\n",
    "student_score = float(input(\"Enter the student's score: \"))\n",
    "\n",
    "#Determine the grade using if else statment\n",
    "if 90 <= student_score <= 100:\n",
    "    grade = 'A'\n",
    "elif 80 <= student_score < 90:\n",
    "    grade = 'B'\n",
    "elif 70 <= student_score < 80:\n",
    "    grade = 'C'\n",
    "elif 0 <= student_score < 70:\n",
    "    grade = 'F'\n",
    "\n",
    "else:\n",
    "    print(\"Invalid score. please enter a score between 0 and 100. \")\n",
    "    \n",
    "    exit()\n",
    "print(f\"The student's grade is: {grade}\")\n"
   ]
  },
  {
   "cell_type": "code",
   "execution_count": 18,
   "id": "88eca1b7-4189-4396-8ad7-ae5e0e21567f",
   "metadata": {},
   "outputs": [
    {
     "name": "stdin",
     "output_type": "stream",
     "text": [
      "Enter a string:  \n"
     ]
    },
    {
     "name": "stdout",
     "output_type": "stream",
     "text": [
      "The string is empty.\n"
     ]
    }
   ],
   "source": [
    "# 11. Write a Python program to check if a string is empty or not using if-else.\n",
    "user_string = input(\"Enter a string: \")\n",
    "if not user_string:\n",
    "    print(\"The string is empty.\")\n",
    "else:\n",
    "    print(\"The string is not empty.\")"
   ]
  },
  {
   "cell_type": "code",
   "execution_count": 20,
   "id": "1dc968f7-752d-4c56-8d0b-fc79339f24cb",
   "metadata": {},
   "outputs": [
    {
     "name": "stdout",
     "output_type": "stream",
     "text": [
      "The triangle is a Isosceles triangle. \n"
     ]
    }
   ],
   "source": [
    "# 12. Create a Python program that identifies the type of a triangle (e.g., equilateral, isosceles, or scalene) based on input values using if-else.\n",
    "\n",
    "side1 = 5\n",
    "side2 = 10\n",
    "side3 = 5\n",
    "# Check the type of triangle using\n",
    "if side1 == side2 == side3:\n",
    "    triangle_type = \"Equilateral\"\n",
    "elif side1 == side2 or side1 == side3 or side2 == side3:\n",
    "    triangle_type = \"Isosceles\"\n",
    "else:\n",
    "    triangle_type = \"Scalene\"\n",
    "print(f\"The triangle is a {triangle_type} triangle. \")"
   ]
  },
  {
   "cell_type": "code",
   "execution_count": 2,
   "id": "e119e85d-2ee7-4e67-b21a-222c26abe527",
   "metadata": {},
   "outputs": [
    {
     "name": "stdin",
     "output_type": "stream",
     "text": [
      "Enter a number (1-7) representing the day of the week:  7\n"
     ]
    },
    {
     "name": "stdout",
     "output_type": "stream",
     "text": [
      "The day of the week corresponding to 7 is: Sunday\n"
     ]
    }
   ],
   "source": [
    "# 13. Write a Python program to determine the day of the week based on a user-provided number using if-else.\n",
    "user_number = int(input(\"Enter a number (1-7) representing the day of the week: \"))\n",
    "\n",
    "if user_number == 1:\n",
    "    day_of_week = \"Monday\"\n",
    "elif user_number == 2:\n",
    "    day_of_week = \"Tuesday\"\n",
    "elif user_number == 3:\n",
    "    day_of_week = \"Wednesday\"\n",
    "elif user_number == 4:\n",
    "    day_of_week = \"Thrusday\"\n",
    "elif user_number == 5:\n",
    "    day_of_week = \"Friday\"\n",
    "elif user_number == 6:\n",
    "    day_of_week = \"Saturday\"\n",
    "elif user_number == 7:\n",
    "    day_of_week = \"Sunday\"\n",
    "else:\n",
    "    day_of_week = \"Invalid input. Please enter a number between 1 and 7.\"\n",
    "    \n",
    "print(f\"The day of the week corresponding to {user_number} is: {day_of_week}\")"
   ]
  },
  {
   "cell_type": "code",
   "execution_count": 5,
   "id": "fd571776-03d9-483e-a684-1adb2c7d41a7",
   "metadata": {},
   "outputs": [
    {
     "name": "stdin",
     "output_type": "stream",
     "text": [
      "Enter a year to check if it's a leap year:  2050\n"
     ]
    },
    {
     "name": "stdout",
     "output_type": "stream",
     "text": [
      "2050 is not a leap year.\n"
     ]
    }
   ],
   "source": [
    "# 14. Create a Python program that checks if a given year is a leap year using both if-else and a function.\n",
    "\n",
    "def is_leap_year(year):\n",
    "    \n",
    "    if (year % 4 == 0 and year % 100 == 0) or (year % 400 == 0):\n",
    "        return True\n",
    "    else:\n",
    "        return False\n",
    "user_year = int(input(\"Enter a year to check if it's a leap year: \"))\n",
    "\n",
    "if is_leap_year(user_year):\n",
    "    print(f\"{user_year} is a lear year.\")\n",
    "else:\n",
    "    print(f\"{user_year} is not a leap year.\")"
   ]
  },
  {
   "cell_type": "code",
   "execution_count": 8,
   "id": "19640594-3f6f-4a7f-b2d6-e952a3d446f3",
   "metadata": {},
   "outputs": [
    {
     "name": "stdout",
     "output_type": "stream",
     "text": [
      "Discount applied! Final price: 96.00\n",
      "No discount applied. price is not eligible for a discount.\n"
     ]
    }
   ],
   "source": [
    "# 15. How do you use the \"assert\" statement in Python to add debugging checks within if-else blocks?\n",
    "def calculate_discount(price, discount_rate):\n",
    "    assert 0 <= discount_rate <= 1, \"Invalid discount rate\"\n",
    "    \n",
    "    if price > 100:\n",
    "        final_price = price - (price * discount_rate)\n",
    "        print(f\"Discount applied! Final price: {final_price:.2f}\")\n",
    "    else:\n",
    "        print(\"No discount applied. price is not eligible for a discount.\")\n",
    "\n",
    "calculate_discount(120, 0.2)\n",
    "calculate_discount(80, 0.3)"
   ]
  },
  {
   "cell_type": "code",
   "execution_count": 11,
   "id": "d55486e1-49e3-446a-95a6-be39ddb22918",
   "metadata": {},
   "outputs": [
    {
     "name": "stdin",
     "output_type": "stream",
     "text": [
      "Enter your age:  32\n"
     ]
    },
    {
     "name": "stdout",
     "output_type": "stream",
     "text": [
      "Sorry, you are not eligible for a senior citizen discount.\n"
     ]
    }
   ],
   "source": [
    "# 16. Create a Python program that determines the eligibility of a person for a senior citizen discount based on age using if-else.\n",
    "user_age = int(input(\"Enter your age: \"))\n",
    "\n",
    "senior_citizen_age = 60\n",
    "\n",
    "if user_age >= senior_citizen_age:\n",
    "    print(\"Congratulations! You are eligible for a senior citizen discount.\")\n",
    "else:\n",
    "    print(\"Sorry, you are not eligible for a senior citizen discount.\")\n"
   ]
  },
  {
   "cell_type": "code",
   "execution_count": 13,
   "id": "e08a1d22-40c3-4477-9977-79ff140c4238",
   "metadata": {},
   "outputs": [
    {
     "name": "stdin",
     "output_type": "stream",
     "text": [
      "Enter a character:  R\n"
     ]
    },
    {
     "name": "stdout",
     "output_type": "stream",
     "text": [
      "The character 'R' is uppercase.\n"
     ]
    }
   ],
   "source": [
    "# 17 Write a Python program to categorize a given character as uppercase, lowercase, or neither using if-else.\n",
    "user_char = input(\"Enter a character: \")\n",
    "\n",
    "if user_char.isalpha():\n",
    "    if user_char.islower():\n",
    "        print(f\"The character '{user_char}' is lowecase.\")\n",
    "    elif user_char.isupper():\n",
    "        print(f\"The character '{user_char}' is uppercase.\")\n",
    "else:\n",
    "    print(f\"The input'{user_char}' is neither uppercase nor lowercase.\")"
   ]
  },
  {
   "cell_type": "code",
   "execution_count": 14,
   "id": "ca3dd874-a8e7-4ad9-bc14-6286ead5d769",
   "metadata": {},
   "outputs": [
    {
     "name": "stdin",
     "output_type": "stream",
     "text": [
      "Enter the coefficient a:  35\n",
      "Enter the coefficient b:  67\n",
      "Enter the coefficient c:  23\n"
     ]
    },
    {
     "name": "stdout",
     "output_type": "stream",
     "text": [
      "The roots are real and different: -0.4482424819840893 and -1.466043232301625\n"
     ]
    }
   ],
   "source": [
    "# 18. Write a Python program to determine the roots of a quadratic equation using if-else.\n",
    "import math\n",
    "\n",
    "a = float(input(\"Enter the coefficient a: \"))\n",
    "b = float(input(\"Enter the coefficient b: \"))\n",
    "c = float(input(\"Enter the coefficient c: \"))\n",
    "\n",
    "#calculate\n",
    "discriminant = b**2 - 4*a*c\n",
    "\n",
    "if discriminant > 0:\n",
    "    root1 = (-b + math.sqrt(discriminant)) / (2*a)\n",
    "    root2 = (-b - math.sqrt(discriminant)) / (2*a)\n",
    "    print(f\"The roots are real and different: {root1} and {root2}\")\n",
    "elif discriminant == 0:\n",
    "    root = -b / (2*a)\n",
    "    print(f\"The root is real and equal: {root}\")\n",
    "else:\n",
    "    real_part = -b / (2*a)\n",
    "    imaginary_part = math.sqrt(abs(discriminant)) / (2*a)\n",
    "    root1 = f\"{real_part} + {imaginary_part}i\"\n",
    "    root2 = f\"{real_part} - {imaginary_part}i\"\n",
    "    print(f\"The roots are complex and different: {root1} and {root2}\")"
   ]
  },
  {
   "cell_type": "code",
   "execution_count": 18,
   "id": "d851e852-557a-4ad1-abf8-e674d8e672fc",
   "metadata": {},
   "outputs": [
    {
     "name": "stdin",
     "output_type": "stream",
     "text": [
      "Enter a year:  2024\n"
     ]
    },
    {
     "name": "stdout",
     "output_type": "stream",
     "text": [
      "2024 is not a century year.\n"
     ]
    }
   ],
   "source": [
    "# 19. Create a Python program that checks if a given year is a century year or not using if-else.\n",
    "user_year = int(input(\"Enter a year: \"))\n",
    "\n",
    "#check if the year is a century year using\n",
    "if user_year % 100 == 0:\n",
    "    print(f\"{user_year} is a century year.\")\n",
    "else:\n",
    "    print(f\"{user_year} is not a century year.\")"
   ]
  },
  {
   "cell_type": "code",
   "execution_count": 20,
   "id": "4190b792-8eec-487a-99f0-ff926631a819",
   "metadata": {},
   "outputs": [
    {
     "name": "stdin",
     "output_type": "stream",
     "text": [
      "Enter a number:  25\n"
     ]
    },
    {
     "name": "stdout",
     "output_type": "stream",
     "text": [
      "25 is a perfect square.\n"
     ]
    }
   ],
   "source": [
    "# 20. Write a Python program to determine if a given number is a perfect square using if-else.\n",
    "\n",
    "user_number = int(input(\"Enter a number: \"))\n",
    "# Check if the number is a perfect square using if-else statment\n",
    "if user_number > 0 and (user_number**0.5).is_integer():\n",
    "    print(f\"{user_number} is a perfect square.\")\n",
    "else:\n",
    "    print(f\"{user_number} is not a perfect square. \")\n"
   ]
  },
  {
   "cell_type": "code",
   "execution_count": 21,
   "id": "4a444fd0-1c28-4077-b993-af11d6cb8afb",
   "metadata": {},
   "outputs": [
    {
     "name": "stdout",
     "output_type": "stream",
     "text": [
      "1\n",
      "2\n",
      "4\n",
      "5\n"
     ]
    }
   ],
   "source": [
    "# 21. Explain the purpose of the \"continue\" and \"break\" statements within if-else loops.\n",
    "# Continue : The continue statment is used to skip the rest of the code inside aloop for the current iteration and move to the next iteration,\n",
    "#usage :- It is often used when you want to skip certain iterations based on a specific condition.\n",
    "# Example :- \n",
    "for i in range(1, 6):\n",
    "    if i == 3:\n",
    "        continue\n",
    "    print(i)"
   ]
  },
  {
   "cell_type": "code",
   "execution_count": 22,
   "id": "8042cc63-ef1a-40f9-85c5-1bf3d1c51a98",
   "metadata": {},
   "outputs": [
    {
     "name": "stdout",
     "output_type": "stream",
     "text": [
      "1\n",
      "2\n",
      "3\n"
     ]
    }
   ],
   "source": [
    "# Break Statment = The break statment is used to exit a loop prematurely. It terminate the loop and transfer control to the code \n",
    "# Usage : It is often used when a certain condition is met, and there's no need to continue iterating through the loop.\n",
    "# Example\n",
    "for i in range(1, 6):\n",
    "    if i == 4:\n",
    "        break \n",
    "    print(i)\n",
    "    "
   ]
  },
  {
   "cell_type": "code",
   "execution_count": 1,
   "id": "50302698-177d-4780-801b-748acf4583c0",
   "metadata": {},
   "outputs": [
    {
     "name": "stdin",
     "output_type": "stream",
     "text": [
      "Enter your weight in kilograms:  60\n",
      "Enter your height in meters:  1.6\n"
     ]
    },
    {
     "name": "stdout",
     "output_type": "stream",
     "text": [
      "Your BMI is: 23.44\n",
      "You are categorized as: Normal weight\n"
     ]
    }
   ],
   "source": [
    "# 22. Create a Python program that calculates the BMI (Body Mass Index) of a person based on their weight and height using if-else.\n",
    "weight_kg = float(input(\"Enter your weight in kilograms: \"))\n",
    "height_m = float(input(\"Enter your height in meters: \"))\n",
    "# Calculate BMI\n",
    "bmi = weight_kg / (height_m ** 2)\n",
    "\n",
    "if bmi < 18.5:\n",
    "    category = \"Underweight\"\n",
    "elif 18.5 <= bmi < 25:\n",
    "    category = \"Normal weight\"\n",
    "elif 25 <= bmi < 30:\n",
    "    category = \"Overweight\"\n",
    "else:\n",
    "    category = \"Obese\"\n",
    "#print\n",
    "print(f\"Your BMI is: {bmi:.2f}\")\n",
    "print(f\"You are categorized as: {category}\")"
   ]
  },
  {
   "cell_type": "code",
   "execution_count": 3,
   "id": "aecb8011-d4e9-43fe-a5c6-9da1067b03ec",
   "metadata": {},
   "outputs": [
    {
     "name": "stdout",
     "output_type": "stream",
     "text": [
      "Original list: [1, 2, 3, 4, 5, 6, 7, 8, 9, 10]\n",
      "Filtered list (even numbers): [2, 4, 6, 8, 10]\n"
     ]
    }
   ],
   "source": [
    "# 23. How can you use the \"filter()\" function with if-else statements to filter elements from a list?\n",
    "numbers = [1, 2, 3, 4, 5, 6, 7, 8, 9, 10]\n",
    "\n",
    "def filter_even(num):\n",
    "    return num % 2 == 0\n",
    "filtered_numbers = filter(filter_even, numbers)\n",
    "\n",
    "result_list = list(filtered_numbers)\n",
    "\n",
    "print(\"Original list:\", numbers)\n",
    "print(\"Filtered list (even numbers):\", result_list)\n"
   ]
  },
  {
   "cell_type": "code",
   "execution_count": 4,
   "id": "0afbc445-b5c0-4497-a5f6-4fe03f2b1def",
   "metadata": {},
   "outputs": [
    {
     "name": "stdin",
     "output_type": "stream",
     "text": [
      "Enter a number:  45\n"
     ]
    },
    {
     "name": "stdout",
     "output_type": "stream",
     "text": [
      "45 is not a prime number.\n"
     ]
    }
   ],
   "source": [
    "# 24. Write a Python program to determine if a given number is prime or not using if-else.\n",
    "user_number = int(input(\"Enter a number: \"))\n",
    "\n",
    "if user_number > 1:\n",
    "    for i in range(2, int(user_number**0.5) +1):\n",
    "        if user_number % i == 0:\n",
    "            print(f\"{user_number} is not a prime number.\")\n",
    "            break\n",
    "        \n",
    "    else:\n",
    "        print(f\"{user_number} is a prime number.\")\n",
    "        \n",
    "else:\n",
    "    print(f\"{user_number} is not a prime number.\")\n"
   ]
  },
  {
   "cell_type": "code",
   "execution_count": 5,
   "id": "fa696056-ba5e-43c7-a336-b130c363839b",
   "metadata": {},
   "outputs": [],
   "source": [
    "# MAP :-"
   ]
  },
  {
   "cell_type": "code",
   "execution_count": 2,
   "id": "b67d3434-101c-4a98-9ce0-65a4ceb6e9fb",
   "metadata": {},
   "outputs": [
    {
     "name": "stdout",
     "output_type": "stream",
     "text": [
      "Original list: [1, 2, 3, 4, 5]\n",
      "Squared list: [1, 4, 9, 16, 25]\n"
     ]
    }
   ],
   "source": [
    "# 1. Explain the purpose of the `map()` function in Python and provide an example of how it can be used to apply a function to each element of an iterable.\n",
    "def square (x):\n",
    "    return x ** 2\n",
    "# Input list\n",
    "numbers = [1,2,3,4,5]\n",
    "# Use map() to apply the square function to each element in the list\n",
    "squared_numbers = map(square, numbers)\n",
    "\n",
    "# Convert the map object to a list\n",
    "result_list = list(squared_numbers)\n",
    "\n",
    "print(\"Original list:\", numbers)\n",
    "print(\"Squared list:\", result_list)"
   ]
  },
  {
   "cell_type": "code",
   "execution_count": 3,
   "id": "017c7136-2d94-4294-a95a-c1156eb6d344",
   "metadata": {},
   "outputs": [
    {
     "name": "stdout",
     "output_type": "stream",
     "text": [
      "Original list: [1, 2, 3, 4, 5]\n",
      "Squared list: [1, 4, 9, 16, 25]\n"
     ]
    }
   ],
   "source": [
    "# 2. Write a Python program that uses the `map()` function to square each element of a list of numbers.\n",
    "# Define a function to square a number\n",
    "def square(x):\n",
    "    return x ** 2\n",
    "#Input list of numbers\n",
    "numbers = [1,2,3,4,5]\n",
    "\n",
    "# Use map() to applu the square function to each element in the list\n",
    "squared_numbers = map(square, numbers)\n",
    "\n",
    "result_list = list(squared_numbers)\n",
    "\n",
    "print(\"Original list:\", numbers)\n",
    "print(\"Squared list:\", result_list)"
   ]
  },
  {
   "cell_type": "code",
   "execution_count": 4,
   "id": "ffcc69c1-3ebf-4873-88b7-4d1cd89c72d2",
   "metadata": {},
   "outputs": [],
   "source": [
    "# 3. How does the `map()` function differ from a list comprehension in Python, and when would you choose one over the other?\n",
    "#'map()' Function:\n",
    "#Syntax:\n",
    "\n",
    "#map(function, iterable)\n",
    "#Return Type:\n",
    "\n",
    "#Returns a map object (iterator).\n",
    "#Use Case:\n",
    "\n",
    "#Suitable when you want to apply a function to each element of an iterable and obtain an iterable result without explicitly converting it to a list.\n",
    "#Useful when dealing with large datasets or when you want to process elements lazily.\n",
    "# Example :-\n",
    "numbers = [1, 2, 3, 4, 5]\n",
    "squared_numbers = map(lambda x: x**2, numbers)\n",
    "\n",
    "#List Comprehension:\n",
    "#Syntax:\n",
    "\n",
    "#[expression for item in iterable]\n",
    "#Return Type:\n",
    "\n",
    "#Returns a list.\n",
    "#Use Case:\n",
    "\n",
    "#Preferred when you want to create a new list by applying an expression to each element of an iterable.\n",
    "#Provides a concise and readable way to perform operations on iterables and create new lists.\n",
    "#Example:\n",
    "numbers = [1, 2, 3, 4, 5]\n",
    "squared_numbers = [x**2 for x in numbers]\n",
    "\n"
   ]
  },
  {
   "cell_type": "code",
   "execution_count": 5,
   "id": "077b72cb-3e65-492a-9513-d850e882db1d",
   "metadata": {},
   "outputs": [
    {
     "name": "stdout",
     "output_type": "stream",
     "text": [
      "Original list of names: ['Ram', 'Krishna', 'Shankar', 'Hanuman']\n",
      "Uppercase names: ['RAM', 'KRISHNA', 'SHANKAR', 'HANUMAN']\n"
     ]
    }
   ],
   "source": [
    "# 4. Create a Python program that uses the `map()` function to convert a list of names to uppercase.\n",
    "names = [\"Ram\", \"Krishna\", \"Shankar\", \"Hanuman\"]\n",
    "\n",
    "uppercase_names = map(str.upper, names)\n",
    "\n",
    "result_list = list(uppercase_names)\n",
    "\n",
    "print(\"Original list of names:\", names)\n",
    "print(\"Uppercase names:\", result_list)"
   ]
  },
  {
   "cell_type": "code",
   "execution_count": 9,
   "id": "69f90636-2670-4562-b89a-7f6c01fa8551",
   "metadata": {},
   "outputs": [
    {
     "name": "stdout",
     "output_type": "stream",
     "text": [
      "Original list of strings: ['Jai', 'Shree', 'Ram']\n",
      "Word lenghts: [3, 5, 3]\n"
     ]
    }
   ],
   "source": [
    "# 5. Write a Python program that uses the `map()` function to calculate the length of each word in a list of strings.\n",
    "strings = [\"Jai\", \"Shree\", \"Ram\"]\n",
    "\n",
    "word_lenghts = map(len, strings)\n",
    "result_list = list(word_lenghts)\n",
    "\n",
    "print(\"Original list of strings:\", strings)\n",
    "print(\"Word lenghts:\", result_list)"
   ]
  },
  {
   "cell_type": "code",
   "execution_count": 10,
   "id": "82d7ae82-4d71-4a61-ab43-cd9c065e95d4",
   "metadata": {},
   "outputs": [
    {
     "name": "stdout",
     "output_type": "stream",
     "text": [
      "List 1: [1, 2, 3, 4]\n",
      "List 2: [5, 6, 7, 8]\n",
      "Result after adding corresponding elements [6, 8, 10, 12]\n"
     ]
    }
   ],
   "source": [
    "# 6. How can you use the `map()` function to apply a custom function to elements of multiple lists simultaneously in Python?\n",
    "# Custom function to add elements of two lists\n",
    "def add_elements(x, y):\n",
    "    return x+y\n",
    "\n",
    "list1 = [1, 2, 3, 4]\n",
    "list2 = [5, 6, 7, 8]\n",
    "\n",
    "result = map(add_elements, list1, list2)\n",
    "result_list = list(result)\n",
    "\n",
    "print(\"List 1:\", list1)\n",
    "print(\"List 2:\", list2)\n",
    "print(\"Result after adding corresponding elements\", result_list)"
   ]
  },
  {
   "cell_type": "code",
   "execution_count": 12,
   "id": "6e4b35c5-29ba-4575-a19e-2f22c55dcb80",
   "metadata": {},
   "outputs": [
    {
     "name": "stdout",
     "output_type": "stream",
     "text": [
      "Temperatures in Celsius: [0, 10, 20, 30, 40]\n",
      "Temperatures in Fahrenheit: [6, 8, 10, 12]\n"
     ]
    }
   ],
   "source": [
    "# 7. Create a Python program that uses `map()` to convert a list of temperatures from Celsius to Fahrenheit.\n",
    "# Custom function to convert celsius to fahrenheit\n",
    "def celsius_to_fahrenheit(celsius):\n",
    "    return (celsius * 9/5) + 32\n",
    "\n",
    "temperatures_celsius = [0, 10, 20, 30, 40]\n",
    "temperatures_fahrenheit = map(celsius_to_fahrenheit, temperatures_celsius)\n",
    "result_lis = list(temperatures_fahrenheit)\n",
    "\n",
    "print(\"Temperatures in Celsius:\", temperatures_celsius)\n",
    "print(\"Temperatures in Fahrenheit:\", result_list)"
   ]
  },
  {
   "cell_type": "code",
   "execution_count": 13,
   "id": "25a73f01-0fdf-477f-9d7c-389eb1c8ba3d",
   "metadata": {},
   "outputs": [
    {
     "name": "stdout",
     "output_type": "stream",
     "text": [
      "Original list of floating_point numbers: [3.14, 2.718, 1.5, 4.8, 6.2]\n",
      "Rounded integers: [3, 3, 2, 5, 6]\n"
     ]
    }
   ],
   "source": [
    "# 8. Write a Python program that uses the `map()` function to round each element of a list of floating-point numbers to the nearest integer.\n",
    "# Input list of floating-input numbers\n",
    "float_numbers = [3.14, 2.718, 1.5, 4.8, 6.2]\n",
    "\n",
    "# Use map () to apply the round function to each element\n",
    "rounded_integers = map(round, float_numbers)\n",
    "# Convert the map object to a list\n",
    "result_list = list(rounded_integers)\n",
    "\n",
    "print(\"Original list of floating_point numbers:\", float_numbers)\n",
    "print(\"Rounded integers:\", result_list)"
   ]
  },
  {
   "cell_type": "code",
   "execution_count": null,
   "id": "dfffa3ff-8327-4d8e-8600-bbc35fa087db",
   "metadata": {},
   "outputs": [],
   "source": [
    "# REDUCE :- "
   ]
  },
  {
   "cell_type": "code",
   "execution_count": 15,
   "id": "bedea3de-e868-40a8-b994-17bf3a94e35f",
   "metadata": {},
   "outputs": [
    {
     "name": "stdout",
     "output_type": "stream",
     "text": [
      "Original list of numbers: [1, 2, 3, 4, 5]\n",
      "Product of all numbers: 120\n"
     ]
    }
   ],
   "source": [
    "# 1. What is the `reduce()` function in Python, and what module should you import to use it? Provide an example of its basic usage.\n",
    "from functools import reduce\n",
    "\n",
    "def multiply(x, y):\n",
    "    return x * y\n",
    "numbers = [1, 2, 3, 4, 5]\n",
    "\n",
    "result = reduce(multiply, numbers)\n",
    "print(\"Original list of numbers:\", numbers)\n",
    "print(\"Product of all numbers:\", result)\n",
    "    "
   ]
  },
  {
   "cell_type": "code",
   "execution_count": 17,
   "id": "6090f2e6-e46b-441a-b056-59c4a1b079bb",
   "metadata": {},
   "outputs": [
    {
     "name": "stdout",
     "output_type": "stream",
     "text": [
      "Original list of numbers: [2, 4, 6, 7]\n",
      "Product of all numbers: 336\n"
     ]
    }
   ],
   "source": [
    "# 2. Write a Python program that uses the `reduce()` function to find the product of all elements in a list.\n",
    "def multiplu (x, y):\n",
    "    return x * y\n",
    "    \n",
    "numbers = [2, 4, 6, 7]\n",
    "result = reduce(multiply, numbers)\n",
    "\n",
    "print(\"Original list of numbers:\", numbers)\n",
    "print(\"Product of all numbers:\", result)"
   ]
  },
  {
   "cell_type": "code",
   "execution_count": 18,
   "id": "c5845799-26a9-4d5c-b4b3-3c929151e529",
   "metadata": {},
   "outputs": [
    {
     "name": "stdout",
     "output_type": "stream",
     "text": [
      "Original list of numbers: [10, 4, 8, 5, 7, 9]\n",
      "Maximum element: 10\n"
     ]
    }
   ],
   "source": [
    "# 3. Create a Python program that uses `reduce()` to find the maximum element in a list of numbers.\n",
    "from functools import reduce\n",
    "\n",
    "def find_max(x, y):\n",
    "    return max(x,y)\n",
    "numbers = [10, 4, 8, 5, 7, 9]\n",
    "\n",
    "max_element = reduce(find_max, numbers)\n",
    "\n",
    "print(\"Original list of numbers:\", numbers)\n",
    "print(\"Maximum element:\", max_element)"
   ]
  },
  {
   "cell_type": "code",
   "execution_count": 20,
   "id": "a2035b18-8052-4a00-ab2a-f5f2f9614cf8",
   "metadata": {},
   "outputs": [
    {
     "name": "stdout",
     "output_type": "stream",
     "text": [
      "Original list of strings: ['Hello', ' ', 'World', '!']\n",
      "Concatenated string: Hello World!\n"
     ]
    }
   ],
   "source": [
    "# 4. How can you use the `reduce()` function to concatenate a list of strings into a single string?\n",
    "from functools import reduce\n",
    "\n",
    "def concatenate_strings(x, y):\n",
    "    return x + y\n",
    "\n",
    "strings = [\"Hello\", \" \", \"World\", \"!\"]\n",
    "\n",
    "concatenated_string = reduce(concatenate_strings, strings)\n",
    "\n",
    "print(\"Original list of strings:\", strings)\n",
    "print(\"Concatenated string:\", concatenated_string)\n"
   ]
  },
  {
   "cell_type": "code",
   "execution_count": 21,
   "id": "841fa127-5f7b-4111-8b57-39c326826848",
   "metadata": {},
   "outputs": [
    {
     "name": "stdin",
     "output_type": "stream",
     "text": [
      "Enter a number:  34\n"
     ]
    },
    {
     "name": "stdout",
     "output_type": "stream",
     "text": [
      "The factorial of 34 is: 295232799039604140847618609643520000000\n"
     ]
    }
   ],
   "source": [
    "# 5. Write a Python program that calculates the factorial of a number using the `reduce()` function.\n",
    "from functools import reduce\n",
    "\n",
    "def multiply(x, y):\n",
    "    return x * y\n",
    "# Fucntion to calculate factorial using reduce\n",
    "def factorial(n):\n",
    "    if n == 0 or n == 1:\n",
    "        return 1\n",
    "    else:\n",
    "        return reduce(multiply, range(1, n + 1))\n",
    "user_number = int(input(\"Enter a number: \"))\n",
    "result = factorial(user_number)\n",
    "\n",
    "print(f\"The factorial of {user_number} is: {result}\")"
   ]
  },
  {
   "cell_type": "code",
   "execution_count": 23,
   "id": "854ea209-4700-4f19-9dcd-a4cac0e87927",
   "metadata": {},
   "outputs": [
    {
     "name": "stdout",
     "output_type": "stream",
     "text": [
      "Original list of numbers: [24, 36, 48, 60]\n",
      "GCD of the numbers:  12\n"
     ]
    }
   ],
   "source": [
    "# 6. Create a Python program that uses `reduce()` to find the GCD (Greatest Common Divisor) of a list of numbers.\n",
    "from functools import reduce\n",
    "from math import gcd\n",
    "numbers = [24, 36, 48, 60]\n",
    "# Use reduce() with math. gcd to find the GCD of all numbers\n",
    "result_gcd = reduce(gcd, numbers)\n",
    "\n",
    "print(\"Original list of numbers:\", numbers)\n",
    "print(\"GCD of the numbers: \", result_gcd)"
   ]
  },
  {
   "cell_type": "code",
   "execution_count": 24,
   "id": "420d9ba5-c24c-4003-b437-6645363f76cf",
   "metadata": {},
   "outputs": [
    {
     "name": "stdin",
     "output_type": "stream",
     "text": [
      "Enter a number:  7654\n"
     ]
    },
    {
     "name": "stdout",
     "output_type": "stream",
     "text": [
      "The sum of digits in 7654 is: 22\n"
     ]
    }
   ],
   "source": [
    "# 7. Write a Python program that uses the `reduce()` function to find the sum of the digits of a given number.\n",
    "from functools import reduce\n",
    "\n",
    "def add_digits(x, y):\n",
    "    return int(x) + int(y)\n",
    "# Function to find the sum of digits using reduce\n",
    "def sum_of_digits(number):\n",
    "    digits = [digit for digit in str(number)]\n",
    "    return reduce(add_digits, digits)\n",
    "\n",
    "# Input  get a number from the user\n",
    "user_number = int(input(\"Enter a number: \"))\n",
    "# Calculste the sum of digits using the sum_of digits function\n",
    "\n",
    "result = sum_of_digits(user_number)\n",
    "\n",
    "print(f\"The sum of digits in {user_number} is: {result}\")"
   ]
  },
  {
   "cell_type": "code",
   "execution_count": 25,
   "id": "f57b18fc-1a2b-4fa1-81ad-a9ad6289bbf9",
   "metadata": {},
   "outputs": [],
   "source": [
    "# FILTER :-"
   ]
  },
  {
   "cell_type": "code",
   "execution_count": 3,
   "id": "d094ac61-5844-457d-b240-f68aee17e9eb",
   "metadata": {},
   "outputs": [
    {
     "name": "stdin",
     "output_type": "stream",
     "text": [
      "Enter a number:  345678\n"
     ]
    },
    {
     "name": "stdout",
     "output_type": "stream",
     "text": [
      "The sum of digits in 345678 is: 33\n"
     ]
    }
   ],
   "source": [
    "# 1. Explain the purpose of the `filter()` function in Python and provide an example of how it can be used to filter elements from an iterable.\n",
    "from functools import reduce\n",
    "\n",
    "# Custom function to add the digits of two numbers\n",
    "def add_digits(x, y):\n",
    "    return int(x) + int(y)\n",
    "\n",
    "# Function to find the sum of digits using reduce\n",
    "def sum_of_digits(number):\n",
    "    digits = [digit for digit in str(number)]\n",
    "    return reduce(add_digits, digits)\n",
    "\n",
    "# Input: Get a number from the user\n",
    "user_number = int(input(\"Enter a number: \"))\n",
    "\n",
    "# Calculate the sum of digits using the sum _of _digits function\n",
    "result = sum_of_digits(user_number)\n",
    "#print\n",
    "print(f\"The sum of digits in {user_number} is: {result}\")\n",
    "\n",
    "# The 'filter()' function in python is a built in function that is used to filter elements from an iterable (e.g. a list) base on a specified condition\n",
    "# The purpose of 'filter()' is to create a new iterable that includes only the elements for which the given function return 'True'"
   ]
  },
  {
   "cell_type": "code",
   "execution_count": 1,
   "id": "18c96a79-5599-4e4b-a6ac-316b5fefe093",
   "metadata": {},
   "outputs": [
    {
     "name": "stdout",
     "output_type": "stream",
     "text": [
      "Original list of numbers: [1, 2, 3, 4, 5, 6, 7]\n",
      "Even numbers: [2, 4, 6]\n"
     ]
    }
   ],
   "source": [
    "# 2. Write a Python program that uses the `filter()` function to select even numbers from a list of integers.\n",
    "def is_even (number):\n",
    "    return number % 2 == 0\n",
    "\n",
    "#Input list of intigers\n",
    "numbers = [1, 2, 3, 4, 5, 6, 7]\n",
    "\n",
    "#use filter() to select even numbers\n",
    "even_numbers = filter(is_even, numbers)\n",
    "# Convert the filter object to a list\n",
    "result_list = list(even_numbers)\n",
    "\n",
    "print(\"Original list of numbers:\", numbers)\n",
    "print(\"Even numbers:\", result_list)\n",
    "    "
   ]
  },
  {
   "cell_type": "code",
   "execution_count": 2,
   "id": "67ae2131-b2e4-4870-a0b3-eec30b6ac4b5",
   "metadata": {},
   "outputs": [
    {
     "name": "stdout",
     "output_type": "stream",
     "text": [
      "Original list of names: ['Ram', 'Krishan', 'Hanuman', 'Lakshman']\n",
      "Names starting with 'R': ['Ram']\n"
     ]
    }
   ],
   "source": [
    "# 3. Create a Python program that uses the `filter()` function to select names that start with a specific letter from a list of strings.\n",
    "names = [\"Ram\", \"Krishan\", \"Hanuman\", \"Lakshman\"]\n",
    "\n",
    "selected_letter = \"R\"\n",
    "selected_names = filter(lambda name: name.startswith(selected_letter), names)\n",
    "\n",
    "result_list = list(selected_names)\n",
    "print(\"Original list of names:\", names)\n",
    "print(f\"Names starting with '{selected_letter}':\", result_list)"
   ]
  },
  {
   "cell_type": "code",
   "execution_count": 3,
   "id": "8f4b4012-1940-4aba-97d8-1284f4dd56d5",
   "metadata": {},
   "outputs": [
    {
     "name": "stdout",
     "output_type": "stream",
     "text": [
      "Original list of numbers: [1, 2, 3, 4, 5, 6, 6, 7, 8, 9, 12, 34, 65, 78, 79]\n",
      "Prime numbers: [2, 3, 5, 7, 79]\n"
     ]
    }
   ],
   "source": [
    "# 4. Write a Python program that uses the `filter()` function to select prime numbers from a list of integers.\n",
    "def is_prime(num):\n",
    "    if num < 2:\n",
    "        return False\n",
    "    for i in range(2, int(num**0.5) + 1):\n",
    "        if num % i == 0:\n",
    "            return False\n",
    "    return True\n",
    "numbers = [1,2,3,4,5,6,6,7,8,9,12,34,65,78,79]\n",
    "\n",
    "prime_numbers = filter(is_prime, numbers)\n",
    "result_list = list(prime_numbers)\n",
    "\n",
    "print(\"Original list of numbers:\", numbers)\n",
    "print(\"Prime numbers:\", result_list)"
   ]
  },
  {
   "cell_type": "code",
   "execution_count": 5,
   "id": "b9497c6f-6325-4f8e-8424-2d239d73a4bc",
   "metadata": {},
   "outputs": [
    {
     "name": "stdout",
     "output_type": "stream",
     "text": [
      "List without None values: [1, 3, 5, 7, 8]\n"
     ]
    }
   ],
   "source": [
    "# 5. How can you use the `filter()` function to remove None values from a list in Python?\n",
    "my_list = [1, None, 3, None, 5, None,7,8]\n",
    "filtered_list = filter(lambda x: x is not None, my_list)\n",
    "\n",
    "result_list = list(filtered_list)\n",
    "\n",
    "print(\"List without None values:\", result_list)"
   ]
  },
  {
   "cell_type": "code",
   "execution_count": 7,
   "id": "7e4a31df-f522-46ba-adc9-115d41e54d35",
   "metadata": {},
   "outputs": [
    {
     "name": "stdout",
     "output_type": "stream",
     "text": [
      "Words longer than 6 characters: ['Hanuman', 'Krishna', 'Balrama']\n"
     ]
    }
   ],
   "source": [
    "# 6. Create a Python program that uses `filter()` to select words longer than a certain length from a list of strings.\n",
    "words = [\"Ram\", \"Hanuman\", \"Krishna\", \"Balrama\"]\n",
    "\n",
    "min_length = 6\n",
    "\n",
    "selected_words = filter(lambda words: len(words) > min_length, words)\n",
    "\n",
    "result_list = list(selected_words)\n",
    "\n",
    "print(f\"Words longer than {min_length} characters:\", result_list)"
   ]
  },
  {
   "cell_type": "code",
   "execution_count": 8,
   "id": "76ba5512-04e3-4f9f-a6bf-a2d7901d7162",
   "metadata": {},
   "outputs": [
    {
     "name": "stdout",
     "output_type": "stream",
     "text": [
      "Values grater than 40: [45, 56, 45, 6788, 45, 345]\n"
     ]
    }
   ],
   "source": [
    "# 7. Write a Python program that uses the `filter()` function to select elements greater than a specified threshold from a list of values.\n",
    "values = [32,45,56,45,6788,45,345]\n",
    "\n",
    "threshold = 40\n",
    "selected_values = filter(lambda x: x > threshold, values)\n",
    "# Convert the filter obhect to a list\n",
    "result_list = list(selected_values)\n",
    "\n",
    "print(f\"Values grater than {threshold}:\", result_list)"
   ]
  },
  {
   "cell_type": "code",
   "execution_count": 9,
   "id": "637fbc1f-72c7-4084-9642-d65125ad17b4",
   "metadata": {},
   "outputs": [],
   "source": [
    "# RECURSION :- "
   ]
  },
  {
   "cell_type": "code",
   "execution_count": 16,
   "id": "8a389043-2af4-450b-873e-370c0e2e40e4",
   "metadata": {},
   "outputs": [],
   "source": [
    "# 1. Explain the concept of recursion in Python. How does it differ from iteration?\n",
    "#Recursion in Python:\n",
    "#Recursion is a programming technique where a function calls itself in order to solve a smaller instance of the same problem. \n",
    "#In a recursive function, the problem is divided into subproblems, and the function calls itself on these subproblems until a base case is reached.\n",
    "#The base case is the condition under which the function stops calling itself and returns a result.\n",
    "# Example :- def factorial(n):\n",
    "def factorial(n):\n",
    "    \n",
    "    if n == 0 or n == 1:\n",
    "        return 1\n",
    "    else:\n",
    "        return n * factorial(n - 1)    \n",
    "# Iteration in Python:\n",
    "#Iteration, on the other hand, is a repetitive execution of a set of statements using loops. \n",
    "#In Python, common iterative constructs include for loops and while loops. Iteration involves explicitly defining the number of times a set of statements should be executed\n",
    "# Example = \n",
    "\n",
    "def factorial_iterative(n):\n",
    "    result = 1\n",
    "    for i in range(1, n + 1):\n",
    "        result *= i\n",
    "    return result\n",
    "\n"
   ]
  },
  {
   "cell_type": "code",
   "execution_count": 17,
   "id": "931f4b94-924f-43c4-a094-0a017dd9fe36",
   "metadata": {},
   "outputs": [
    {
     "name": "stdin",
     "output_type": "stream",
     "text": [
      "Enter a number:  34\n"
     ]
    },
    {
     "name": "stdout",
     "output_type": "stream",
     "text": [
      "The factorial of 34 is : 295232799039604140847618609643520000000\n"
     ]
    }
   ],
   "source": [
    "# 2. Write a Python program to calculate the factorial of a number using recursion.\n",
    "def factorial(n):\n",
    "    if n == 0 or n == 1:\n",
    "        return 1\n",
    "    else:\n",
    "        return n * factorial(n -1)\n",
    "# Input : Get a number from the user\n",
    "user_number = int(input(\"Enter a number: \"))\n",
    "# Calculate\n",
    "result = factorial(user_number)\n",
    "print(f\"The factorial of {user_number} is : {result}\")"
   ]
  },
  {
   "cell_type": "code",
   "execution_count": 1,
   "id": "c2fed9a2-490c-449b-89ab-7817b7e8fc4a",
   "metadata": {},
   "outputs": [
    {
     "name": "stdin",
     "output_type": "stream",
     "text": [
      "Enter the value of n:  34\n"
     ]
    },
    {
     "name": "stdout",
     "output_type": "stream",
     "text": [
      "The  34th Fibonacci number is: 5702887\n"
     ]
    }
   ],
   "source": [
    "# 3. Create a recursive Python function to find the nth Fibonacci number.\n",
    "def fibonacci(n):\n",
    "    if n == 0:\n",
    "        return 0\n",
    "    elif n == 1:\n",
    "        return 1\n",
    "    # Recursive case\n",
    "    else:\n",
    "        return fibonacci(n -1) + fibonacci(n - 2)\n",
    "# Inpur : Get the value of n from the user\n",
    "user_n = int(input(\"Enter the value of n: \"))\n",
    "# Calculated the nth fibonacci\n",
    "result = fibonacci(user_n)\n",
    "\n",
    "print(f\"The  {user_n}th Fibonacci number is: {result}\")"
   ]
  },
  {
   "cell_type": "code",
   "execution_count": 6,
   "id": "b17d824a-7a14-4049-acd9-1014c15b5c0c",
   "metadata": {},
   "outputs": [
    {
     "name": "stdin",
     "output_type": "stream",
     "text": [
      "Enter a list of numbers separated by space:  34 56 67 78 45 67 \n"
     ]
    },
    {
     "name": "stdout",
     "output_type": "stream",
     "text": [
      "The sum of the elements in the list is: 347\n"
     ]
    }
   ],
   "source": [
    "# 4. Write a recursive Python function to calculate the sum of all elements in a list.\n",
    "def recursive_sum(lst):\n",
    "    # Base case: an empty list has a sum of 0\n",
    "    if not lst:\n",
    "        return 0\n",
    "    # Recursive case: sum the first element and the sum of the rest of the list\n",
    "    else:\n",
    "        return lst[0] + recursive_sum(lst[1:])\n",
    "\n",
    "# Input: Get a list of numbers from the user\n",
    "user_list = list(map(int, input(\"Enter a list of numbers separated by space: \").split()))\n",
    "\n",
    "# Calculate the sum using the recursive function\n",
    "result = recursive_sum(user_list)\n",
    "\n",
    "# Print the result\n",
    "print(f\"The sum of the elements in the list is: {result}\")\n"
   ]
  },
  {
   "cell_type": "code",
   "execution_count": 8,
   "id": "102b40c1-ffa7-411a-b234-72a90c953985",
   "metadata": {},
   "outputs": [],
   "source": [
    "# 5. How can you prevent a recursive function from running indefinitely, causing a stack overflow error?\n",
    "# Ans :- Preventing a recursive function from running indefinitely and causing a stack overflow error involves \n",
    "#        implementing a mechanism to reach a base case or termination condition.\n",
    "\n",
    "def factorial(n):\n",
    "    # Base case: factorial of 0 or 1 is 1\n",
    "    if n == 0 or n == 1:\n",
    "        return 1\n",
    "    # Recursive case: calculate factorial for n-1\n",
    "    else:\n",
    "        return n * factorial(n - 1)\n",
    "\n"
   ]
  },
  {
   "cell_type": "code",
   "execution_count": 9,
   "id": "f7069a43-2893-4c93-9c69-1923f1f630a9",
   "metadata": {},
   "outputs": [
    {
     "name": "stdout",
     "output_type": "stream",
     "text": [
      "The GCD of  34 and 87 is: 1\n"
     ]
    }
   ],
   "source": [
    "# 6. Create a recursive Python function to find the greatest common divisor (GCD) of two numbers using the Euclidean algorithm.\n",
    "def gcd_euclidean(a, b):\n",
    "    # Base case: GCD \n",
    "    if b == 0:\n",
    "        return a\n",
    "    else:\n",
    "        return gcd_euclidean(b, a % b)\n",
    "num1 = 34\n",
    "num2 = 87\n",
    "\n",
    "result = gcd_euclidean(num1, num2)\n",
    "print(f\"The GCD of  {num1} and {num2} is: {result}\")\n",
    "    \n",
    "        "
   ]
  },
  {
   "cell_type": "code",
   "execution_count": 2,
   "id": "388ce89d-03cb-44ca-98f3-244bdd6bc7eb",
   "metadata": {},
   "outputs": [
    {
     "name": "stdin",
     "output_type": "stream",
     "text": [
      "Enter a string: my name is depak\n"
     ]
    },
    {
     "name": "stdout",
     "output_type": "stream",
     "text": [
      "The reversed string is: kaped si eman ym\n"
     ]
    }
   ],
   "source": [
    "\n",
    "# 7. Write a recursive Python function to reverse a string.\n",
    "\n",
    "def reverse_string(input_str):\n",
    "    # Base case: an empty string or a string with one character is already\n",
    "    if len(input_str) <= 1:\n",
    "        return input_str\n",
    "    # Recursive case:reverse the rest of the string and concatenate the first character\n",
    "    else:\n",
    "        return reverse_string(input_str[1:]) + input_str[0]\n",
    "# input \n",
    "user_input = input(\"Enter a string:\")\n",
    "result = reverse_string(user_input)\n",
    "print(f\"The reversed string is: {result}\")"
   ]
  },
  {
   "cell_type": "code",
   "execution_count": 3,
   "id": "91a1cddc-f236-49e8-b195-87b5c92eb703",
   "metadata": {},
   "outputs": [
    {
     "name": "stdin",
     "output_type": "stream",
     "text": [
      "Enter the base (x):  5\n",
      "enter the exponent (n):  3\n"
     ]
    },
    {
     "name": "stdout",
     "output_type": "stream",
     "text": [
      "5.0 raised to the power of 3 is: 125.0\n"
     ]
    }
   ],
   "source": [
    "# 8.  Create a recursive Python function to calculate the power of a number (x^n).\n",
    "def power(x, n):\n",
    "    # Base case: any number to the power of 0 is 1\n",
    "    if n == 0:\n",
    "        return 1\n",
    "    # Recursive case: calculate power using x^(n-1)\n",
    "    else:\n",
    "        return x * power(x, n - 1)\n",
    "base = float(input(\"Enter the base (x): \"))\n",
    "exponent = int(input(\"enter the exponent (n): \"))\n",
    "\n",
    "result = power(base, exponent)\n",
    "print(f\"{base} raised to the power of {exponent} is: {result}\")"
   ]
  },
  {
   "cell_type": "code",
   "execution_count": null,
   "id": "a433fe5c-a189-44fd-b529-832ffff3f89a",
   "metadata": {},
   "outputs": [],
   "source": [
    "# 9. Write a recursive Python function to find all permutations of a given string.\n",
    "def generate_permutations(input_str):\n",
    "    if len(input_str) == 1:\n",
    "        return [input_str]\n",
    "    \n",
    "    permutations = []\n",
    "    for i in range(len(input_str)):\n",
    "        first_char = input_str[i]\n",
    "        remaining_chars = input_str[:i] + input_str [i+1:]\n",
    "        \n",
    "        for perm in generate_permutations(remaining_chars):\n",
    "            permutations.append(first_char + perm)\n",
    "    \n",
    "    return permutations\n",
    "user_input = input(\"Enter a string:\")\n",
    "result = generate_permutations(user_input)\n",
    "print(f\"All permutations of '{user_input}' : {result}\")"
   ]
  },
  {
   "cell_type": "code",
   "execution_count": 1,
   "id": "c548d1f8-a3dd-4ec8-b29c-b895bb771f0f",
   "metadata": {},
   "outputs": [
    {
     "name": "stdin",
     "output_type": "stream",
     "text": [
      "Enter a string:  Hare Ram\n"
     ]
    },
    {
     "name": "stdout",
     "output_type": "stream",
     "text": [
      "The string 'Hare Ram' is not a palindrome.\n"
     ]
    }
   ],
   "source": [
    "# 10. Write a recursive Python function to check if a string is a palindrome.\n",
    "def is_palindrome(input_str):\n",
    "    # Base case: an empty string or a string with one character is a palindrome\n",
    "    if len(input_str) <= 1:\n",
    "        return True\n",
    "    # Recursive case: check if the first and last characters are the same,\n",
    "    # and recursively check the substring without these characters\n",
    "    else:\n",
    "        return input_str[0] == input_str[-1] and is_palindrome(input_str[1:-1])\n",
    "\n",
    "# Input: Get a string from the user\n",
    "user_input = input(\"Enter a string: \")\n",
    "\n",
    "# Check if the string is a palindrome using the recursive function\n",
    "result = is_palindrome(user_input)\n",
    "\n",
    "# Print the result\n",
    "if result:\n",
    "    print(f\"The string '{user_input}' is a palindrome.\")\n",
    "else:\n",
    "    print(f\"The string '{user_input}' is not a palindrome.\")\n"
   ]
  },
  {
   "cell_type": "code",
   "execution_count": 3,
   "id": "049ba57d-d3a8-45b3-a200-23fd5667dc4c",
   "metadata": {},
   "outputs": [
    {
     "name": "stdin",
     "output_type": "stream",
     "text": [
      "Enter elements seprated by spacesL  234 3455 3454 234 78 \n",
      "Enter the length of combinations (k):  34\n"
     ]
    },
    {
     "name": "stdout",
     "output_type": "stream",
     "text": [
      "All combinations of lenght 34 for ['234', '3455', '3454', '234', '78']: []\n"
     ]
    }
   ],
   "source": [
    "# 11. Create a recursive Python function to generate all possible combinations of a list of elements.\n",
    "def generate_combinations(elements, k):\n",
    "    def combine_helper(start, path):\n",
    "        if len(path) == k:\n",
    "            combinations.append(path)\n",
    "            return\n",
    "        for i in range(start, len(elements)):\n",
    "            combine_helper(i + 1, path + [elements[i]])\n",
    "    combinations = []\n",
    "    combine_helper(0, [])\n",
    "    return combinations\n",
    "user_elements = input(\"Enter elements seprated by spacesL \").split()\n",
    "\n",
    "k = int(input(\"Enter the length of combinations (k): \"))\n",
    "result = generate_combinations(user_elements, k)\n",
    "\n",
    "print(f\"All combinations of lenght {k} for {user_elements}: {result}\")"
   ]
  },
  {
   "cell_type": "code",
   "execution_count": 4,
   "id": "84b909e4-6472-423a-9ca1-d1e5ab931955",
   "metadata": {},
   "outputs": [],
   "source": [
    "# BASIC OF FUNCTIONS:-\n"
   ]
  },
  {
   "cell_type": "code",
   "execution_count": 5,
   "id": "c23a00c6-aae3-4df2-9962-69ebb075e08e",
   "metadata": {},
   "outputs": [],
   "source": [
    "# 1. What is a function in Python, and why is it used?\n",
    "\n",
    "# ANS :- Function is a block of organized, reusable code thet performs a specific task. It is designed to be called with a set of \n",
    "#        arguments to perform a particular operation or computations and may return a reslut. Functions provide modularity, allowing you\n",
    "#        to break down a large program into smaller manageable, and reusable pieces of code.\n",
    "\n",
    "# FUNCTONS IS USED TO :- \n",
    "# 1. Encapsulate and define reusable pieces of code.\n",
    "# 2. Improve code organizaton and modularity.\n",
    "# 3. Enhance readability and maintainability.\n"
   ]
  },
  {
   "cell_type": "code",
   "execution_count": 6,
   "id": "5d03ccd8-cbf1-4cd9-93c2-0e83a6033005",
   "metadata": {},
   "outputs": [
    {
     "name": "stdout",
     "output_type": "stream",
     "text": [
      "The square of 5 is: 25\n"
     ]
    }
   ],
   "source": [
    "# 2. How do you define a function in Python? Provide an example.\n",
    "def square(number):\n",
    "    \n",
    "    \"\"\"This function calculates the square of a given number.\"\"\"\n",
    "    \n",
    "    result = number ** 2\n",
    "    return result\n",
    "# Calling the function\n",
    "result = square(5)\n",
    "print(f\"The square of 5 is: {result}\")\n"
   ]
  },
  {
   "cell_type": "code",
   "execution_count": 7,
   "id": "59dd9257-3233-4e07-9d00-672ade695c61",
   "metadata": {},
   "outputs": [],
   "source": [
    "# 3. Explain the difference between a function definition and a function call.\n",
    "# Definition :-\n",
    "#               A function is the process of creating a new function in your code. It specifies the name of the function,\n",
    "#  the parameters it accepts, and the code that is executed when the function is called.\n",
    " # Key Components:\n",
    "# def keyword: Indicates the start of a function definition.\n",
    "# function_name: The name of the function.\n",
    "# parameters: Input values that the function accepts (if any).\n",
    "# : colon: Marks the beginning of the function body.\n",
    "# return: Keyword used to return a value from the function (optional).\n",
    "\n",
    "# FUNCTION CALL:\n",
    "#                A function call is the act of invoking or executing a previously defined function. It applies the functionality defined\n",
    "#    in the function to specific values(arguments) provided during the call.\n",
    "\n",
    "# Key Components:\n",
    "# function_name: The name of the function to be called.\n",
    "# arguments: Actual values passed to the function during the call.\n",
    "# = assignment operator: Associates the result of the function call with a variable (optional)."
   ]
  },
  {
   "cell_type": "code",
   "execution_count": 8,
   "id": "adad4e63-7152-4940-93a1-7c1b7433d9bd",
   "metadata": {},
   "outputs": [
    {
     "name": "stdin",
     "output_type": "stream",
     "text": [
      "Enter the first number:  234\n",
      "Enter the second number:  234\n"
     ]
    },
    {
     "name": "stdout",
     "output_type": "stream",
     "text": [
      "The sum of 234.0 and 234.0 is: 468.0\n"
     ]
    }
   ],
   "source": [
    "# 4. Write a Python program that defines a function to calculate the sum of two numbers and then calls the function.\n",
    "\n",
    "def calculate_sum(a, b):\n",
    "    \"\"\"This function calculates the sum of two numbers.\"\"\"\n",
    "    result = a + b\n",
    "    return result\n",
    "\n",
    "num1 = float(input(\"Enter the first number: \"))\n",
    "num2 = float(input(\"Enter the second number: \"))\n",
    "\n",
    "sum_result = calculate_sum(num1, num2)\n",
    "\n",
    "print(f\"The sum of {num1} and {num2} is: {sum_result}\")"
   ]
  },
  {
   "cell_type": "code",
   "execution_count": 9,
   "id": "0369ee68-1a22-42dc-a9e2-e62e2eff7e93",
   "metadata": {},
   "outputs": [],
   "source": [
    "# 5. What is a function signature, and what information does it typically include?\n",
    "\n",
    "# A function signature in programming refers to the declaration of a function, providing information about its name, parameters, return type, and sometimes other relevant details. The function signature helps define the interface of a function, indicating how the function can be called and what it returns. \n",
    "# The specific information included in a function signature can vary depending on the programming language.\n",
    "\n",
    "# In Python, a function signature typically includes the following elements:\n",
    "\n",
    "# Function Name:\n",
    "\n",
    "# This is the name assigned to the function, allowing you to uniquely identify and reference it in your code.\n",
    "# Parameters:\n",
    "\n",
    "# Parameters are the input values that the function expects. The function signature specifies the names and types of these parameters. For example, def my_function(param1, param2): indicates a function named my_function with two parameters.\n",
    "# Return Type:\n",
    "\n",
    "# In Python, the return type specifies the type of value that the function will return. If a function doesn't explicitly return a value, the return type is implicitly None. The return type is not explicitly mentioned in the function signature but is often documented in function documentation or comments.\n",
    "# Documentation String (Docstring):\n",
    "\n",
    "# While not part of the formal signature, the docstring is a convention in Python to include a multi-line string immediately after the function signature. This string provides documentation about the function's purpose, parameters, and return value.\n",
    "\n",
    "# Function Name: add_numbers\n",
    "# Parameters: a and b, both of type int\n",
    "# Return Type: int\n",
    "# Docstring: Provides documentation about the function's purpose"
   ]
  },
  {
   "cell_type": "code",
   "execution_count": 11,
   "id": "28eb994d-507a-45e7-9d78-3193a7c39b3b",
   "metadata": {},
   "outputs": [
    {
     "name": "stdout",
     "output_type": "stream",
     "text": [
      "The product of 5 and 3 is: 15\n"
     ]
    }
   ],
   "source": [
    "# 6. Create a Python function that takes two arguments and returns their product.\n",
    "\n",
    "def calculate_product(a, b):\n",
    "    \"\"\"This function calculates the product of two numbers.\"\"\"\n",
    "    result = a * b\n",
    "    return result\n",
    "    \n",
    "num1 = 5\n",
    "num2 = 3\n",
    "product_result = calculate_product(num1, num2)\n",
    "\n",
    "print(f\"The product of {num1} and {num2} is: {product_result}\")\n",
    "    "
   ]
  },
  {
   "cell_type": "code",
   "execution_count": 12,
   "id": "374dd30e-ce25-4188-a371-5e8de1a8c5cd",
   "metadata": {},
   "outputs": [],
   "source": [
    "# FUNCTION PARAMETERS AND ARGUMENTS:\n"
   ]
  },
  {
   "cell_type": "code",
   "execution_count": 13,
   "id": "01e4ddb1-6cbe-4bd7-a449-9233416f56cb",
   "metadata": {},
   "outputs": [],
   "source": [
    "# 1. Explain the concepts of formal parameters and actual arguments in Python functions.\n",
    "\n",
    "# ANSWER - The terms \"formal parameters\" and \"actual arguments\" refers to the variables and values used during the definition and invocation of\n",
    "#           function, respectively.\n",
    "\n",
    "# Formal Parameters:\n",
    "\n",
    "# Definition: Formal parameters are variables listed in the function definition as part of the function signature. \n",
    "#.           They act as placeholders for the values that will be passed to the function when it is called.\n",
    "# Location:  Formal parameters are located in the parentheses following the function name.\n",
    "\n",
    "# Actual Arguments (Arguments):\n",
    "\n",
    "# Definition: Actual arguments (often simply called \"arguments\") are the values provided when calling a function. T\n",
    "#             These values are assigned to the corresponding formal parameters during the function call.\n",
    "#. Location: Actual arguments are passed in the parentheses when the function is called.\n"
   ]
  },
  {
   "cell_type": "code",
   "execution_count": 14,
   "id": "ad6bb39a-7670-446d-b374-89f25a08c633",
   "metadata": {},
   "outputs": [
    {
     "name": "stdout",
     "output_type": "stream",
     "text": [
      "Hello, Deepak!\n",
      "Good Morning, Manish!\n"
     ]
    }
   ],
   "source": [
    "# 2. Write a Python program that defines a function with default argument values.\n",
    "\n",
    "def greet(name, greeting = \"Hello\"):\n",
    "    \"\"\"This function greets a person with an optional custom greeting.\"\"\"\n",
    "    full_greeting = f\"{greeting}, {name}!\"\n",
    "    return full_greeting\n",
    "# Example\n",
    "result1 = greet(\"Deepak\")\n",
    "result2 = greet(\"Manish\", \"Good Morning\")\n",
    "\n",
    "print(result1)\n",
    "print(result2)"
   ]
  },
  {
   "cell_type": "code",
   "execution_count": 15,
   "id": "0472163e-2d0e-4f20-ae83-045508d0961c",
   "metadata": {},
   "outputs": [
    {
     "name": "stdout",
     "output_type": "stream",
     "text": [
      "Hello, Alice.\n",
      "Good morning, Bob.\n",
      "Hello, Charlie!\n",
      "Hi, David!!!\n"
     ]
    }
   ],
   "source": [
    "# 3. How do you use keyword arguments in Python function calls? Provide an example.\n",
    "#   In Python, you can use keyword arguments in function calls to specify values for parameters by explicitly mentioning the parameter names along with their values. \n",
    "#.  This allows you to provide arguments out of order and makes the code more readable. \n",
    "#  Here's an example:\n",
    "def greet(name, greeting=\"Hello\", punctuation=\".\"):\n",
    "    \"\"\"This function greets a person with optional custom greeting and punctuation.\"\"\"\n",
    "    full_greeting = f\"{greeting}, {name}{punctuation}\"\n",
    "    return full_greeting\n",
    "\n",
    "# Example usage with keyword arguments:\n",
    "result1 = greet(name=\"Alice\")  # Uses the default greeting and punctuation\n",
    "result2 = greet(name=\"Bob\", greeting=\"Good morning\")  # Uses a custom greeting with default punctuation\n",
    "result3 = greet(name=\"Charlie\", punctuation=\"!\")  # Uses the default greeting with custom punctuation\n",
    "result4 = greet(name=\"David\", greeting=\"Hi\", punctuation=\"!!!\")  # Uses both custom greeting and punctuation\n",
    "\n",
    "# Print the results\n",
    "print(result1)\n",
    "print(result2)\n",
    "print(result3)\n",
    "print(result4)\n"
   ]
  },
  {
   "cell_type": "code",
   "execution_count": 17,
   "id": "51d94557-361b-4414-9f5c-faf5c069154b",
   "metadata": {},
   "outputs": [
    {
     "name": "stdout",
     "output_type": "stream",
     "text": [
      "Sum of 1,2,3: 6\n",
      "Sum of 4,45,5,6,7,7: 74\n"
     ]
    }
   ],
   "source": [
    "# 4. Create a Python function that accepts a variable number of arguments and calculates their sum.\n",
    "def calculate_sum(*args):\n",
    "    \"\"\"This function calculates the sum of a variable number of arguments.\"\"\"\n",
    "    total_sum = sum(args)\n",
    "    return total_sum\n",
    "# Examplse \n",
    "result1 = calculate_sum(1,2,3)\n",
    "result2 = calculate_sum(4,45,5,6,7,7)\n",
    "print(f\"Sum of 1,2,3: {result1}\")\n",
    "print(f\"Sum of 4,45,5,6,7,7: {result2}\")\n"
   ]
  },
  {
   "cell_type": "code",
   "execution_count": 1,
   "id": "3f3ee46a-1f33-4878-a66b-55c4c910d574",
   "metadata": {},
   "outputs": [],
   "source": [
    "# 5. What is the purpose of the `*args` and `**kwargs` syntax in function parameter lists?\n",
    "# ANSER = *args: Variable-Length Positional Arguments:\n",
    "\n",
    "#          The *args syntax allows a function to accept a variable number of positional arguments. It collects these arguments into a tuple.\n",
    "#Usage: def function_name(arg1, arg2, *args)\n",
    "\n",
    "# **kwargs: Variable-Length Keyword Arguments:\n",
    "\n",
    "#.  The **kwargs syntax allows a function to accept a variable number of keyword arguments. It collects these arguments into a dictionary.\n",
    "# Usage: def function_name(arg1, arg2, **kwargs)"
   ]
  },
  {
   "cell_type": "code",
   "execution_count": 2,
   "id": "6a63a367-554b-487b-a2e8-bc04081ecd91",
   "metadata": {},
   "outputs": [],
   "source": [
    "# RETURN VALUES AND SCOPING:\n"
   ]
  },
  {
   "cell_type": "code",
   "execution_count": 3,
   "id": "6a6f1584-0751-45cf-8eeb-8681f7cc2961",
   "metadata": {},
   "outputs": [
    {
     "name": "stdout",
     "output_type": "stream",
     "text": [
      "Hello, this function return None.\n",
      "None\n"
     ]
    }
   ],
   "source": [
    "# 1. Describe the role of the `return` statement in Python functions and provide examples.\n",
    "# ANSER - The'return' statment is used in a function to specific the values that the function should returh when it is called.\n",
    "#         It marks the end of the function's execution and provides the computed result to the caller. The 'return' statment can return \n",
    "#         one or more values, and it is optional. If a function does not have a 'return' statment, it implisitly return 'None'\n",
    "\n",
    "\n",
    "# Example:- \n",
    "def simple_function():\n",
    "    print(\"Hello, this function return None.\")\n",
    "    \n",
    "result = simple_function()\n",
    "print(result)"
   ]
  },
  {
   "cell_type": "code",
   "execution_count": 5,
   "id": "e31ca76f-814f-4465-8f82-ed6081db83d8",
   "metadata": {},
   "outputs": [
    {
     "name": "stdout",
     "output_type": "stream",
     "text": [
      "10\n",
      "20\n",
      "20\n"
     ]
    }
   ],
   "source": [
    "# 2. Explain the concept of variable scope in Python, including local and global variables.\n",
    "# Answer - Variable score in python refers to the region or context in a program where a variable is accessible and can ber referenced. \n",
    "#            Python has two primary types of variable scope: local scope and global scope.\n",
    "\n",
    "# 1. LOCAL VARIABLE :- A variable declared inside a function is said to have local scope. It is only accessible within that specific function an\n",
    "#                    and cannot be directly refrenced outside of it.\n",
    "# Examplse :- \n",
    "def example_function():\n",
    "    \n",
    "    local_variable = 10\n",
    "    print(local_variable)\n",
    "\n",
    "example_function()\n",
    "# print(local_variable)  # This would result in an error\n",
    "\n",
    "# 2. GLOBAL VARIABLE:- A variable declare outside of any function or block has global scope. It can be accessed and modified throughout \n",
    "#                       the entire program.\n",
    "global_variable = 20\n",
    "\n",
    "def another_function():\n",
    "    print(global_variable)\n",
    "\n",
    "another_function()\n",
    "print(global_variable)\n"
   ]
  },
  {
   "cell_type": "code",
   "execution_count": 8,
   "id": "882427cd-1efe-4513-bc89-94faa6a0d0e4",
   "metadata": {},
   "outputs": [
    {
     "name": "stdout",
     "output_type": "stream",
     "text": [
      "Inside the function - Global Variable: 50\n",
      "Outside the function - Global Variable: 60\n"
     ]
    }
   ],
   "source": [
    "# 3. Write a Python program that demonstrates the use of global variables within functions.\n",
    "global_variable = 50\n",
    "\n",
    "def modify_global():\n",
    "    # Accesing the global variable\n",
    "    global global_variable\n",
    "    print(f\"Inside the function - Global Variable: {global_variable}\")\n",
    "    \n",
    "    global_variable += 10\n",
    "    \n",
    "modify_global()\n",
    "print(f\"Outside the function - Global Variable: {global_variable}\")"
   ]
  },
  {
   "cell_type": "code",
   "execution_count": 9,
   "id": "73249819-334d-4501-aaea-9c52f812c74f",
   "metadata": {},
   "outputs": [
    {
     "name": "stdout",
     "output_type": "stream",
     "text": [
      "The factorial of 5 is: 120\n"
     ]
    }
   ],
   "source": [
    "# 4. Create a Python function that calculates the factorial of a number and returns it.\n",
    "def factorial(n):\n",
    "    \"\"\"Calculate the factorial of a non-neagative integer.\"\"\"\n",
    "    if n < 0:\n",
    "        raise ValueError(\"Factorial is not defined for negative numbers.\")\n",
    "    \n",
    "    if n == 0 or n == 1:\n",
    "        return 1\n",
    "    \n",
    "    else:\n",
    "        result = 1\n",
    "        for i in range(2, n + 1):\n",
    "            result *= i\n",
    "        return result\n",
    "# Example Usage:\n",
    "number = 5\n",
    "result = factorial(number)\n",
    "print(f\"The factorial of {number} is: {result}\")\n"
   ]
  },
  {
   "cell_type": "code",
   "execution_count": 10,
   "id": "73344a5f-2edb-431b-ba5a-43434ea52d96",
   "metadata": {},
   "outputs": [
    {
     "name": "stdout",
     "output_type": "stream",
     "text": [
      "Inside the function: 42\n",
      "Outside the function: 42\n",
      "Inside the function: 42\n",
      "Outside the function: 42\n"
     ]
    }
   ],
   "source": [
    "# 5. How can you access variables defined outside a function from within the function?\n",
    "# Answer :- If you want to modify the value of a global variable within a function, you need to use the\n",
    "#           'global' keyword to indicate that you are referring to the global variable, not creating a new local variable.\n",
    "\n",
    "global_variable = 42\n",
    "\n",
    "def access_global_using_keyword():\n",
    "    global global_variable\n",
    "    print(f\"Inside the function: {global_variable}\")\n",
    "\n",
    "access_global_using_keyword()\n",
    "print(f\"Outside the function: {global_variable}\")\n",
    "\n",
    "# 2. Directly Refrencing the variable:\n",
    "#    If you only want to acces the value of a global variable within a function, you can directly refrence the variable without the\n",
    "#    'global' keyword\n",
    "# Example:- \n",
    "global_variable = 42\n",
    "\n",
    "def access_global_directly():\n",
    "    print(f\"Inside the function: {global_variable}\")\n",
    "\n",
    "access_global_directly()\n",
    "print(f\"Outside the function: {global_variable}\")\n"
   ]
  },
  {
   "cell_type": "code",
   "execution_count": 11,
   "id": "e94194d7-21f4-4bbe-acc4-ae9f21b50afe",
   "metadata": {},
   "outputs": [],
   "source": [
    "# LAMBDA FUNCTIONS AND HIGHER-ORDER FUNCTIONS:\n"
   ]
  },
  {
   "cell_type": "code",
   "execution_count": 12,
   "id": "d054b7c5-3883-44fb-8b12-10cb2d11a67f",
   "metadata": {},
   "outputs": [],
   "source": [
    "# 1. What are lambda functions in Python, and when are they typically used?\n",
    "# ANSWER -: It is also known as anonymous functions. They are used for short, simple operations and are particularly useful \n",
    "#           when a full function definiton is not necessary.\n",
    "# Basic syntax is :-\n",
    "lambda arguments: expression\n",
    "\n",
    "# Lambda functions are typically used in situations where a short-lived function is needed especially when:\n",
    "# Lambda functions are handy for simple operations that can be expressed in a single line.\n",
    "add = lambda x, y: x + y\n",
    "result = add(3, 5)  # Result: 8\n"
   ]
  },
  {
   "cell_type": "code",
   "execution_count": 13,
   "id": "808b8f1f-8cc1-44ed-96ad-79914221cd1f",
   "metadata": {},
   "outputs": [
    {
     "name": "stdout",
     "output_type": "stream",
     "text": [
      "Original Data: [(1, 5), (3, 3), (2, 4), (6, 7)]\n",
      "Sorted Data: [(3, 3), (2, 4), (1, 5), (6, 7)]\n"
     ]
    }
   ],
   "source": [
    "# 2. Write a Python program that uses lambda functions to sort a list of tuples based on the second element.\n",
    "data = [(1, 5), (3, 3), (2, 4), (6, 7)]\n",
    "\n",
    "sorted_data = sorted(data, key=lambda x: x[1])\n",
    "\n",
    "print(\"Original Data:\", data)\n",
    "print(\"Sorted Data:\", sorted_data)"
   ]
  },
  {
   "cell_type": "code",
   "execution_count": 14,
   "id": "35059a62-8607-47ac-a843-043f42c765f4",
   "metadata": {},
   "outputs": [],
   "source": [
    "# 3. Explain the concept of higher-order functions in Python, and provide an example.\n",
    "# Answer - A higher-order function is a function that takes one or more functions as arguments or return a function as its result.\n",
    "#          In other words, it treats functions as first-class citizens, allowing them to be passed around and manupulated just like any\n",
    "#         other data type.Higher -order functions enable a programming style called functional programming.\n",
    "# 1. Higher order funtions can accept other functions as arguments.\n",
    "\n",
    "def apply_operation(operation, x, y):\n",
    "    return operation(x, y)\n",
    "def add(x, y):\n",
    "    return x + y\n",
    "def multiplu(x, y):\n",
    "    return x * y\n",
    "result1 = apply_operation(add, 3, 5)"
   ]
  },
  {
   "cell_type": "code",
   "execution_count": 15,
   "id": "ee07d9e1-ca9c-42a4-b76e-14da46692c48",
   "metadata": {},
   "outputs": [
    {
     "name": "stdout",
     "output_type": "stream",
     "text": [
      "Original Numbers: [1, 2, 3, 4, 5]\n",
      "Result after Doubling: [2, 4, 6, 8, 10]\n"
     ]
    }
   ],
   "source": [
    "# 4. Create a Python function that takes a list of numbers and a function as arguments, applying the function to each element in the list.\n",
    "\n",
    "def apply_function_to_list(numbers, operation):\n",
    "    \"\"\"Apply the given operation function to each element in the list.\n",
    "    parameters:\n",
    "    - numbers (list): List of numbers.\n",
    "    - operation (function): Function to be applied to each element. \n",
    "    Returns:\n",
    "    -list: list of results after applying the operation.\n",
    "    \"\"\"\n",
    "    return [operation(x) for x in numbers]\n",
    "\n",
    "def double (x):\n",
    "    return x * 2\n",
    "\n",
    "numbers = [1,2,3,4,5]\n",
    "\n",
    "result = apply_function_to_list(numbers, double)\n",
    "print(\"Original Numbers:\", numbers)\n",
    "print(\"Result after Doubling:\", result)"
   ]
  },
  {
   "cell_type": "code",
   "execution_count": 16,
   "id": "3c52c326-a801-4f57-a1d3-ed6e253d477e",
   "metadata": {},
   "outputs": [],
   "source": [
    "# BUILT-IN FUNCTIONS:\n"
   ]
  },
  {
   "cell_type": "code",
   "execution_count": 18,
   "id": "2a51ff10-585c-4a3b-b8c2-58e9b74fae13",
   "metadata": {},
   "outputs": [],
   "source": [
    "# 1. Describe the role of built-in functions like `len()`, `max()`, and `min()` in Python.\n",
    "\n",
    "# Built-in functions like 'len()', 'max()', and 'min()' in python play a crucial role in performing common operations on data \n",
    "# structures. Heres a brief description of each function:\n",
    "# 1. len(iterable)' - Length function:\n",
    "my_list = [1,2,3,4,5]\n",
    "length = len(my_list)\n",
    "\n",
    "#'max(iterable, *iterables, key=default, default=None)'-\n",
    "# Maximum Function: - find and return the largest item in an iterable or among several iterable.\n",
    "numbers = [3, 1, 4, 1, 5, 9, 2]\n",
    "maximum = max(numbers)  # Result: 9\n",
    "\n",
    "# 'min(iterable, *iterables, key = default, default=None)' -\n",
    "# Minimum Function - find and return the smallest item in an iterable or among\n",
    "numbers = [3, 1, 4, 1, 5, 9, 2]\n",
    "minimum = min(numbers)  # Result: 1\n",
    "\n",
    "# These built-in functions are commonly used in various scenarios:\n",
    "\n",
    "# Data Analysis: len() is used to determine the size of datasets, and max() and min() are used to find extremes in numeric data.\n",
    "\n",
    "# Iterating over Indices: len() is often used in combination with index-based loops to iterate over elements of a sequence.\n",
    "\n",
    "# Finding Extremes: max() and min() are frequently used to find the maximum and minimum values in a list, respectively.\n",
    "\n",
    "# Custom Comparisons: The optional key parameter in max() and min() allows for custom comparisons based on a specified function."
   ]
  },
  {
   "cell_type": "code",
   "execution_count": 21,
   "id": "8608f569-effe-43b9-9c64-862c9e04d981",
   "metadata": {},
   "outputs": [
    {
     "name": "stdout",
     "output_type": "stream",
     "text": [
      "Original Numbers: [1, 2, 3, 4, 5]\n",
      "Doubled Numbers: [2, 4, 6, 8, 10]\n"
     ]
    }
   ],
   "source": [
    "# 2. Write a Python program that uses the `map()` function to apply a function to each element of a list.\n",
    "def double(x):\n",
    "    return x * 2\n",
    "\n",
    "numbers = [1,2,3,4,5]\n",
    "\n",
    "doubled_numbers = list(map(double, numbers))\n",
    "\n",
    "print(\"Original Numbers:\", numbers)\n",
    "print(\"Doubled Numbers:\", doubled_numbers)"
   ]
  },
  {
   "cell_type": "code",
   "execution_count": 22,
   "id": "1eeec8d4-a202-4e52-a8fb-b84c75c1e51d",
   "metadata": {},
   "outputs": [
    {
     "name": "stdout",
     "output_type": "stream",
     "text": [
      "Original Numbers: [1, 2, 3, 4, 5, 6, 7, 8, 9, 10]\n",
      "Even Numbers: [2, 4, 6, 8, 10]\n"
     ]
    }
   ],
   "source": [
    "# 3. How does the `filter()` function work in Python, and when would you use it?\n",
    "# Answer :- The 'filter()' function in python is used to filter elements from am iterable based on a specified function or condition.\n",
    "#           It returns an iterator containing only the elements for which the given function return 'True'\n",
    "\n",
    "# Use Cases:\n",
    "# Filtering Based on a Condition:\n",
    "\n",
    "# Use filter() when you want to select elements from a collection based on a specified condition or function.\n",
    "# Cleaner Code for Filtering:\n",
    "\n",
    "# filter() provides a concise and readable way to express filtering logic compared to using a loop and conditional statements.\n",
    "# Functional Programming:\n",
    "\n",
    "# filter() is often used in functional programming paradigms, where operations on data are expressed as transformations.\n",
    "# Avoiding List Comprehensions:\n",
    "\n",
    "# While list comprehensions can also be used for filtering, filter() can be a good choice when the filtering logic is more complex or involves an external function.\n",
    "\n",
    "# Example function to filter even numbers\n",
    "def is_even(x):\n",
    "    return x % 2 == 0\n",
    "\n",
    "# List of numbers\n",
    "numbers = [1, 2, 3, 4, 5, 6, 7, 8, 9, 10]\n",
    "\n",
    "# Using filter() to select even numbers\n",
    "even_numbers = list(filter(is_even, numbers))\n",
    "\n",
    "# Printing the original and filtered lists\n",
    "print(\"Original Numbers:\", numbers)\n",
    "print(\"Even Numbers:\", even_numbers)\n"
   ]
  },
  {
   "cell_type": "code",
   "execution_count": 23,
   "id": "129ad6f5-8a12-494d-9a86-2c3c3a33fe9b",
   "metadata": {},
   "outputs": [
    {
     "name": "stdout",
     "output_type": "stream",
     "text": [
      "The sum of the list elements is : 17\n",
      "The maximum element of the list is : 6\n"
     ]
    }
   ],
   "source": [
    "# 4. Create a Python program that uses the `reduce()` function to find the product of all elements in a list.\n",
    "\n",
    "# python code to demonstrate working of reduce() \n",
    "\n",
    "# importing functools for reduce() \n",
    "import functools \n",
    "\n",
    "# initializing list \n",
    "lis = [1, 3, 5, 6, 2] \n",
    "\n",
    "# using reduce to compute sum of list \n",
    "print(\"The sum of the list elements is : \", end=\"\") \n",
    "print(functools.reduce(lambda a, b: a+b, lis)) \n",
    "\n",
    "# using reduce to compute maximum element from list \n",
    "print(\"The maximum element of the list is : \", end=\"\") \n",
    "print(functools.reduce(lambda a, b: a if a > b else b, lis)) \n"
   ]
  },
  {
   "cell_type": "code",
   "execution_count": 24,
   "id": "9e8ddde2-c26c-49e4-bbbd-91657859041e",
   "metadata": {},
   "outputs": [],
   "source": [
    "# FUNCTION DOCUMENTATION AND BEST PRACTICES:\n"
   ]
  },
  {
   "cell_type": "code",
   "execution_count": 25,
   "id": "45fd7bd7-17d8-4122-b727-4583e5973b29",
   "metadata": {},
   "outputs": [],
   "source": [
    "# 1. Explain the purpose of docstrings in Python functions and how to write them.\n",
    "# ANSWER:-\n",
    "#         Docstrings in Python are used to provide documentation and information about a function, module, class, or method.\n",
    "#         The term \"docstring\" is a combination of \"documentation\" and \"string.\" The primary purposes of docstrings are\n",
    "\n",
    "# Documentation:\n",
    "\n",
    "# Docstrings serve as a form of inline documentation, providing a way for developers to understand the purpose, usage, and behavior of a function or module.\n",
    "# Help Information:\n",
    "\n",
    "# Docstrings can be accessed using the help() function or by using tools like IDEs or documentation generators, helping developers get information about the code.\n",
    "# Readability and Maintenance:\n",
    "\n",
    "# Well-written docstrings enhance the readability of code and contribute to the maintainability of projects by making it easier for others (and yourself) to understand the codebase.\n",
    "# Here's how you can write a docstring for a Python function:\n",
    "def example_function(parameter1, parameter2):\n",
    "    \"\"\"\n",
    "    Brief description of the function.\n",
    "\n",
    "    More detailed description, including information about the purpose,\n",
    "    parameters, return values, and any other relevant details.\n",
    "\n",
    "    Parameters:\n",
    "    - parameter1 (type): Description of parameter1.\n",
    "    - parameter2 (type): Description of parameter2.\n",
    "\n",
    "    Returns:\n",
    "    - type: Description of the return value.\n",
    "\n",
    "    Example:\n",
    "    >>> example_function(1, 2)\n",
    "    Output: Result\n",
    "\n",
    "    Note:\n",
    "    Any additional notes or important information.\n",
    "    \"\"\"\n",
    "    # Function implementation goes here\n",
    "    pass\n",
    "\n",
    "# Here's a breakdown of the docstring components:\n",
    "\n",
    "# Brief Description:\n",
    "\n",
    "# A concise one-line description of the function's purpose.\n",
    "# Detailed Description:\n",
    "\n",
    "# A more detailed explanation providing information about parameters, return values, exceptions, and any other relevant details.\n",
    "# Parameters:\n",
    "\n",
    "# A section listing each parameter, its type, and a description.\n",
    "# Returns:\n",
    "\n",
    "# A section describing the return value and its type.\n",
    "# Example:\n",
    "\n",
    "# An example of how to use the function, often shown using the >>> notation.\n",
    "# Notes:\n",
    "\n",
    "# Any additional notes or important information."
   ]
  },
  {
   "cell_type": "code",
   "execution_count": 1,
   "id": "6fb04800-c0ed-463d-98fe-a5af175bb636",
   "metadata": {},
   "outputs": [],
   "source": [
    "# 2. Describe some best practices for naming functions and variables in Python, including naming conventions and guidelines.\n",
    "\n",
    "# Naming functions and variables in Python follows certain conventions and guidelines to ensure code readability and maintainability. \n",
    "# Here are some best practices for naming functions and variables:\n",
    "\n",
    "# Use Descriptive Names:\n",
    "\n",
    "# Choose names that clearly convey the purpose or functionality of the function or variable.\n",
    "# Avoid single-letter variable names (except in specific cases like loop indices).\n",
    "# Follow PEP 8:\n",
    "\n",
    "# Adhere to the naming conventions specified in PEP 8, the official style guide for Python code.\n",
    "# For functions and variables, use lowercase letters with underscores to separate words (snake_case).\n",
    "# For classes, use CamelCase (capitalized words without underscores).\n",
    "\n",
    "# PEP 8 compliant names\n",
    "def calculate_sum(x, y):\n",
    "    pass\n",
    "\n",
    "class MyClass:\n",
    "    pass\n",
    "\n",
    "# Be Consistent:\n",
    "\n",
    "# Maintain consistency in naming across your codebase.\n",
    "# If you choose a certain naming style for functions and variables, stick to it.\n",
    "# Use Verb-Noun Pairing for Functions:\n",
    "\n",
    "# Name functions using a verb-noun pairing that describes the action and the object it acts upon.\n",
    "# Examples: calculate_sum, validate_input, generate_report.\n",
    "# Avoid Ambiguous Abbreviations:\n",
    "\n",
    "# Minimize the use of abbreviations unless they are widely accepted or standard (e.g., URL, HTML).\n",
    "# Avoid abbreviations that might be unclear to someone else reading your code.\n",
    "# Choose Meaningful Variable Names:\n",
    "\n",
    "# Make variable names meaningful and indicative of their purpose.\n",
    "# Avoid generic names like temp, data, or single-letter names like x, unless their purpose is clear in the context.\n",
    "# Use Constants for Constants:\n",
    "\n",
    "# If a variable is meant to be a constant, use uppercase letters with underscores (e.g., MAX_SIZE, PI).\n",
    "# Constants are usually declared at the module level.\n",
    "\n",
    "def calculate_sum(a, b):\n",
    "    \"\"\"\n",
    "    Calculate the sum of two numbers.\n",
    "\n",
    "    Parameters:\n",
    "    - a (int): The first number.\n",
    "    - b (int): The second number.\n",
    "\n",
    "    Returns:\n",
    "    - int: The sum of a and b.\n",
    "    \"\"\"\n",
    "    return a + b\n"
   ]
  },
  {
   "cell_type": "code",
   "execution_count": null,
   "id": "f30ea35f-bbd2-439e-898a-3e33290b39c6",
   "metadata": {},
   "outputs": [],
   "source": []
  }
 ],
 "metadata": {
  "kernelspec": {
   "display_name": "Python 3 (ipykernel)",
   "language": "python",
   "name": "python3"
  },
  "language_info": {
   "codemirror_mode": {
    "name": "ipython",
    "version": 3
   },
   "file_extension": ".py",
   "mimetype": "text/x-python",
   "name": "python",
   "nbconvert_exporter": "python",
   "pygments_lexer": "ipython3",
   "version": "3.10.8"
  }
 },
 "nbformat": 4,
 "nbformat_minor": 5
}
